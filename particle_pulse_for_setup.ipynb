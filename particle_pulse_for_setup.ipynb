{
 "cells": [
  {
   "cell_type": "code",
   "execution_count": 20,
   "metadata": {},
   "outputs": [],
   "source": [
    "import mikeio\n",
    "from mikeio import EUMType, EUMUnit, ItemInfo\n",
    "\n",
    "import pandas as pd\n",
    "import numpy as np\n",
    "\n"
   ]
  },
  {
   "cell_type": "markdown",
   "metadata": {},
   "source": [
    "**get duration and timestepping of simulation from setup file**"
   ]
  },
  {
   "cell_type": "code",
   "execution_count": 2,
   "metadata": {},
   "outputs": [
    {
     "name": "stderr",
     "output_type": "stream",
     "text": [
      "c:\\source\\mikeio\\mikeio\\pfs.py:194: UserWarning: Keyword type_of_radiation_stress_correction defined multiple times. Value: 1\n",
      "  warnings.warn(f\"Keyword {key} defined multiple times. Value: {val}\")\n"
     ]
    }
   ],
   "source": [
    "fname = r'D:\\OpCIS2019_offline\\OpCIS2019_offline_PT_decoupled.mfm'\n",
    "pfs = mikeio.read_pfs(fname)"
   ]
  },
  {
   "cell_type": "code",
   "execution_count": 12,
   "metadata": {},
   "outputs": [
    {
     "name": "stdout",
     "output_type": "stream",
     "text": [
      "simulation starting: 2020-12-14 00:00:00 \n",
      "with a timestep of 60.0 s. \n",
      "running for 360 s until 2020-12-14 06:00:00\n"
     ]
    }
   ],
   "source": [
    "start_time = pfs.FemEngine.TIME.start_time\n",
    "n_timesteps = pfs.FemEngine.TIME.number_of_time_steps\n",
    "time_step_interval = pfs.FemEngine.TIME.time_step_interval\n",
    "\n",
    "# create datetime index\n",
    "time = pd.date_range(start=start_time, periods=n_timesteps+1, freq=f'{time_step_interval}S')\n",
    "\n",
    "\n",
    "print(f'simulation starting: {start_time} \\nwith a timestep of {time_step_interval} s. \\nrunning for {n_timesteps} s until {time[-1]}')"
   ]
  },
  {
   "cell_type": "markdown",
   "metadata": {},
   "source": [
    "**create dummy particle pulse and write to dfs0**"
   ]
  },
  {
   "cell_type": "code",
   "execution_count": 18,
   "metadata": {},
   "outputs": [
    {
     "data": {
      "text/html": [
       "<div>\n",
       "<style scoped>\n",
       "    .dataframe tbody tr th:only-of-type {\n",
       "        vertical-align: middle;\n",
       "    }\n",
       "\n",
       "    .dataframe tbody tr th {\n",
       "        vertical-align: top;\n",
       "    }\n",
       "\n",
       "    .dataframe thead th {\n",
       "        text-align: right;\n",
       "    }\n",
       "</style>\n",
       "<table border=\"1\" class=\"dataframe\">\n",
       "  <thead>\n",
       "    <tr style=\"text-align: right;\">\n",
       "      <th></th>\n",
       "      <th>Number Particles</th>\n",
       "      <th>Mass Flux</th>\n",
       "    </tr>\n",
       "  </thead>\n",
       "  <tbody>\n",
       "    <tr>\n",
       "      <th>2020-12-14 00:00:00</th>\n",
       "      <td>0.0</td>\n",
       "      <td>0.000000e+00</td>\n",
       "    </tr>\n",
       "    <tr>\n",
       "      <th>2020-12-14 00:01:00</th>\n",
       "      <td>0.0</td>\n",
       "      <td>0.000000e+00</td>\n",
       "    </tr>\n",
       "    <tr>\n",
       "      <th>2020-12-14 00:02:00</th>\n",
       "      <td>0.0</td>\n",
       "      <td>0.000000e+00</td>\n",
       "    </tr>\n",
       "    <tr>\n",
       "      <th>2020-12-14 00:03:00</th>\n",
       "      <td>100.0</td>\n",
       "      <td>1.000000e+22</td>\n",
       "    </tr>\n",
       "    <tr>\n",
       "      <th>2020-12-14 00:04:00</th>\n",
       "      <td>100.0</td>\n",
       "      <td>1.000000e+22</td>\n",
       "    </tr>\n",
       "    <tr>\n",
       "      <th>2020-12-14 00:05:00</th>\n",
       "      <td>100.0</td>\n",
       "      <td>1.000000e+22</td>\n",
       "    </tr>\n",
       "    <tr>\n",
       "      <th>2020-12-14 00:06:00</th>\n",
       "      <td>100.0</td>\n",
       "      <td>1.000000e+22</td>\n",
       "    </tr>\n",
       "    <tr>\n",
       "      <th>2020-12-14 00:07:00</th>\n",
       "      <td>100.0</td>\n",
       "      <td>1.000000e+22</td>\n",
       "    </tr>\n",
       "    <tr>\n",
       "      <th>2020-12-14 00:08:00</th>\n",
       "      <td>100.0</td>\n",
       "      <td>1.000000e+22</td>\n",
       "    </tr>\n",
       "    <tr>\n",
       "      <th>2020-12-14 00:09:00</th>\n",
       "      <td>100.0</td>\n",
       "      <td>1.000000e+22</td>\n",
       "    </tr>\n",
       "    <tr>\n",
       "      <th>2020-12-14 00:10:00</th>\n",
       "      <td>100.0</td>\n",
       "      <td>1.000000e+22</td>\n",
       "    </tr>\n",
       "    <tr>\n",
       "      <th>2020-12-14 00:11:00</th>\n",
       "      <td>100.0</td>\n",
       "      <td>1.000000e+22</td>\n",
       "    </tr>\n",
       "    <tr>\n",
       "      <th>2020-12-14 00:12:00</th>\n",
       "      <td>100.0</td>\n",
       "      <td>1.000000e+22</td>\n",
       "    </tr>\n",
       "    <tr>\n",
       "      <th>2020-12-14 00:13:00</th>\n",
       "      <td>0.0</td>\n",
       "      <td>0.000000e+00</td>\n",
       "    </tr>\n",
       "    <tr>\n",
       "      <th>2020-12-14 00:14:00</th>\n",
       "      <td>0.0</td>\n",
       "      <td>0.000000e+00</td>\n",
       "    </tr>\n",
       "    <tr>\n",
       "      <th>2020-12-14 00:15:00</th>\n",
       "      <td>0.0</td>\n",
       "      <td>0.000000e+00</td>\n",
       "    </tr>\n",
       "    <tr>\n",
       "      <th>2020-12-14 00:16:00</th>\n",
       "      <td>0.0</td>\n",
       "      <td>0.000000e+00</td>\n",
       "    </tr>\n",
       "    <tr>\n",
       "      <th>2020-12-14 00:17:00</th>\n",
       "      <td>0.0</td>\n",
       "      <td>0.000000e+00</td>\n",
       "    </tr>\n",
       "    <tr>\n",
       "      <th>2020-12-14 00:18:00</th>\n",
       "      <td>0.0</td>\n",
       "      <td>0.000000e+00</td>\n",
       "    </tr>\n",
       "    <tr>\n",
       "      <th>2020-12-14 00:19:00</th>\n",
       "      <td>0.0</td>\n",
       "      <td>0.000000e+00</td>\n",
       "    </tr>\n",
       "  </tbody>\n",
       "</table>\n",
       "</div>"
      ],
      "text/plain": [
       "                     Number Particles     Mass Flux\n",
       "2020-12-14 00:00:00               0.0  0.000000e+00\n",
       "2020-12-14 00:01:00               0.0  0.000000e+00\n",
       "2020-12-14 00:02:00               0.0  0.000000e+00\n",
       "2020-12-14 00:03:00             100.0  1.000000e+22\n",
       "2020-12-14 00:04:00             100.0  1.000000e+22\n",
       "2020-12-14 00:05:00             100.0  1.000000e+22\n",
       "2020-12-14 00:06:00             100.0  1.000000e+22\n",
       "2020-12-14 00:07:00             100.0  1.000000e+22\n",
       "2020-12-14 00:08:00             100.0  1.000000e+22\n",
       "2020-12-14 00:09:00             100.0  1.000000e+22\n",
       "2020-12-14 00:10:00             100.0  1.000000e+22\n",
       "2020-12-14 00:11:00             100.0  1.000000e+22\n",
       "2020-12-14 00:12:00             100.0  1.000000e+22\n",
       "2020-12-14 00:13:00               0.0  0.000000e+00\n",
       "2020-12-14 00:14:00               0.0  0.000000e+00\n",
       "2020-12-14 00:15:00               0.0  0.000000e+00\n",
       "2020-12-14 00:16:00               0.0  0.000000e+00\n",
       "2020-12-14 00:17:00               0.0  0.000000e+00\n",
       "2020-12-14 00:18:00               0.0  0.000000e+00\n",
       "2020-12-14 00:19:00               0.0  0.000000e+00"
      ]
     },
     "execution_count": 18,
     "metadata": {},
     "output_type": "execute_result"
    }
   ],
   "source": [
    "n_particles = 100\n",
    "mass_particle = 1e20 # just use high number if number of particles should be determining factor here \n",
    "\n",
    "pulse_duration = 10 # in timesteps\n",
    "pulse_start = 3\n",
    "\n",
    "\n",
    "# generate particle pulse\n",
    "pulse = np.zeros(len(time))\n",
    "pulse[pulse_start:pulse_start+pulse_duration] = n_particles\n",
    "\n",
    "# put in dataframe for overview\n",
    "df_pulse=pd.DataFrame(index=time)\n",
    "df_pulse['Number Particles'] = pulse\n",
    "df_pulse['Mass Flux'] = df_pulse['Number Particles'] * mass_particle \n",
    "\n",
    "df_pulse[:20]"
   ]
  },
  {
   "cell_type": "code",
   "execution_count": 38,
   "metadata": {},
   "outputs": [
    {
     "data": {
      "text/plain": [
       "[kg per sec,\n",
       " gram per day,\n",
       " kg per day,\n",
       " pound per sec,\n",
       " gram per sec,\n",
       " mg per sec,\n",
       " mu g per sec,\n",
       " ton per sec]"
      ]
     },
     "execution_count": 38,
     "metadata": {},
     "output_type": "execute_result"
    }
   ],
   "source": [
    "EUMType.Mass_flux.units"
   ]
  },
  {
   "cell_type": "code",
   "execution_count": 39,
   "metadata": {},
   "outputs": [],
   "source": [
    "# first item: Mass Flux [kg/s] (should be related to mass of individual particle)\n",
    "item1 = ItemInfo(\"Mass Flux\", EUMType.Mass_flux, EUMUnit.kg_per_sec)\n",
    "da1 = mikeio.DataArray(df_pulse['Mass Flux'].values, time=time, item=item1)\n",
    "\n",
    "\n",
    "# second item: number of particles\n",
    "item2 = ItemInfo(\"Number Particles\", EUMType.Number_of_Particles, EUMUnit.Integer)\n",
    "da2 = mikeio.DataArray(df_pulse['Number Particles'].values, time=time, item=item2)\n",
    "\n",
    "ds = mikeio.Dataset([da1, da2])\n",
    "ds\n",
    "\n",
    "# write output\n",
    "ds.to_dfs('particle_pulse.dfs0')"
   ]
  }
 ],
 "metadata": {
  "kernelspec": {
   "display_name": "Python 3.9.7 ('base')",
   "language": "python",
   "name": "python3"
  },
  "language_info": {
   "codemirror_mode": {
    "name": "ipython",
    "version": 3
   },
   "file_extension": ".py",
   "mimetype": "text/x-python",
   "name": "python",
   "nbconvert_exporter": "python",
   "pygments_lexer": "ipython3",
   "version": "3.9.7"
  },
  "orig_nbformat": 4,
  "vscode": {
   "interpreter": {
    "hash": "74eb74240a78feba9a345c9729ea0ea04e7ae3d558242fbb1102e1890655d8f9"
   }
  }
 },
 "nbformat": 4,
 "nbformat_minor": 2
}
