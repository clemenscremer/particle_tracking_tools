{
 "cells": [
  {
   "cell_type": "code",
   "execution_count": null,
   "metadata": {},
   "outputs": [],
   "source": [
    "import mikeio\n",
    "import pandas as pd\n",
    "import numpy as np\n",
    "\n",
    "\n",
    "from pyproj import Transformer\n",
    "\n",
    "import matplotlib.pyplot as plt\n",
    "import contextily as ctx\n",
    "import plotly.graph_objects as go\n",
    "\n",
    "# maybe visualize with some mapbox layer (dfsu rendered as geotiff?) as it probably will be later https://plotly.com/python/mapbox-density-heatmaps/"
   ]
  },
  {
   "cell_type": "markdown",
   "metadata": {},
   "source": [
    "**read xml**"
   ]
  },
  {
   "cell_type": "code",
   "execution_count": 2,
   "metadata": {},
   "outputs": [
    {
     "data": {
      "text/html": [
       "<div>\n",
       "<style scoped>\n",
       "    .dataframe tbody tr th:only-of-type {\n",
       "        vertical-align: middle;\n",
       "    }\n",
       "\n",
       "    .dataframe tbody tr th {\n",
       "        vertical-align: top;\n",
       "    }\n",
       "\n",
       "    .dataframe thead th {\n",
       "        text-align: right;\n",
       "    }\n",
       "</style>\n",
       "<table border=\"1\" class=\"dataframe\">\n",
       "  <thead>\n",
       "    <tr style=\"text-align: right;\">\n",
       "      <th></th>\n",
       "      <th>Nr</th>\n",
       "      <th>Particle</th>\n",
       "    </tr>\n",
       "  </thead>\n",
       "  <tbody>\n",
       "    <tr>\n",
       "      <th>0</th>\n",
       "      <td>1</td>\n",
       "      <td>559143.42, 5933004.6, -2.0679833, 360, 272.339...</td>\n",
       "    </tr>\n",
       "    <tr>\n",
       "      <th>1</th>\n",
       "      <td>101</td>\n",
       "      <td>559206.58, 5933023.8, -2.070086, 300, 272.591,...</td>\n",
       "    </tr>\n",
       "    <tr>\n",
       "      <th>2</th>\n",
       "      <td>201</td>\n",
       "      <td>559199.41, 5933043.5, -2.069864, 240, 273.4492...</td>\n",
       "    </tr>\n",
       "    <tr>\n",
       "      <th>3</th>\n",
       "      <td>301</td>\n",
       "      <td>559179.38, 5933003.5, -2.0696006, 180, 272.231...</td>\n",
       "    </tr>\n",
       "    <tr>\n",
       "      <th>4</th>\n",
       "      <td>401</td>\n",
       "      <td>559233.68, 5933022.9, -2.071397, 120, 272.4477...</td>\n",
       "    </tr>\n",
       "    <tr>\n",
       "      <th>...</th>\n",
       "      <td>...</td>\n",
       "      <td>...</td>\n",
       "    </tr>\n",
       "    <tr>\n",
       "      <th>1559</th>\n",
       "      <td>901</td>\n",
       "      <td>559753.48, 5932974.3, -1.2538123, 46620, 90.06...</td>\n",
       "    </tr>\n",
       "    <tr>\n",
       "      <th>1560</th>\n",
       "      <td>201</td>\n",
       "      <td>559985.72, 5933035.7, -1.2529499, 47040, 89.27...</td>\n",
       "    </tr>\n",
       "    <tr>\n",
       "      <th>1561</th>\n",
       "      <td>1101</td>\n",
       "      <td>559914.86, 5933029.4, -1.2532882, 46500, 89.50...</td>\n",
       "    </tr>\n",
       "    <tr>\n",
       "      <th>1562</th>\n",
       "      <td>801</td>\n",
       "      <td>559905.34, 5933027.4, -1.2533792, 46680, 89.60...</td>\n",
       "    </tr>\n",
       "    <tr>\n",
       "      <th>1563</th>\n",
       "      <td>501</td>\n",
       "      <td>559892.63, 5933027.1, -1.253428, 46860, 89.674...</td>\n",
       "    </tr>\n",
       "  </tbody>\n",
       "</table>\n",
       "<p>1564 rows × 2 columns</p>\n",
       "</div>"
      ],
      "text/plain": [
       "        Nr                                           Particle\n",
       "0        1  559143.42, 5933004.6, -2.0679833, 360, 272.339...\n",
       "1      101  559206.58, 5933023.8, -2.070086, 300, 272.591,...\n",
       "2      201  559199.41, 5933043.5, -2.069864, 240, 273.4492...\n",
       "3      301  559179.38, 5933003.5, -2.0696006, 180, 272.231...\n",
       "4      401  559233.68, 5933022.9, -2.071397, 120, 272.4477...\n",
       "...    ...                                                ...\n",
       "1559   901  559753.48, 5932974.3, -1.2538123, 46620, 90.06...\n",
       "1560   201  559985.72, 5933035.7, -1.2529499, 47040, 89.27...\n",
       "1561  1101  559914.86, 5933029.4, -1.2532882, 46500, 89.50...\n",
       "1562   801  559905.34, 5933027.4, -1.2533792, 46680, 89.60...\n",
       "1563   501  559892.63, 5933027.1, -1.253428, 46860, 89.674...\n",
       "\n",
       "[1564 rows x 2 columns]"
      ]
     },
     "execution_count": 2,
     "metadata": {},
     "output_type": "execute_result"
    }
   ],
   "source": [
    "xmlname = r'C:\\Source\\particle_tools\\OpCIS2019_offline\\OpCIS2019_offline_PT_decoupled_t_kenter_pt_passive_xml.mfm - Result Files\\Person_track.xml'\n",
    "df = pd.read_xml(xmlname, encoding=\"US-ASCII\", xpath=\"//Particle\")\n",
    "\n",
    "#expand particle attributes in DataFrame\n",
    "df[['x', 'y', 'z', 'age', 'hdir', 'hspeed', 'vspeed', 'mass']] = df['Particle'].str.split(',', expand=True)\n",
    "df.drop(columns='Particle', inplace=True)\n",
    "s = df.select_dtypes(include='object').columns\n",
    "df[s] = df[s].astype(\"float\")\n",
    "\n",
    "# for dynamic plotting: aggregate in intervals by just ceiling to 10 min. intervals, then revert back to minutes\n",
    "df['minutes'] = df.age.apply(lambda x: np.ceil(x/600)*10)\n",
    "\n",
    "df"
   ]
  },
  {
   "cell_type": "markdown",
   "metadata": {},
   "source": [
    "add lat lon columns to DataFrame"
   ]
  },
  {
   "cell_type": "code",
   "execution_count": 4,
   "metadata": {},
   "outputs": [
    {
     "data": {
      "text/html": [
       "<div>\n",
       "<style scoped>\n",
       "    .dataframe tbody tr th:only-of-type {\n",
       "        vertical-align: middle;\n",
       "    }\n",
       "\n",
       "    .dataframe tbody tr th {\n",
       "        vertical-align: top;\n",
       "    }\n",
       "\n",
       "    .dataframe thead th {\n",
       "        text-align: right;\n",
       "    }\n",
       "</style>\n",
       "<table border=\"1\" class=\"dataframe\">\n",
       "  <thead>\n",
       "    <tr style=\"text-align: right;\">\n",
       "      <th></th>\n",
       "      <th>Nr</th>\n",
       "      <th>x</th>\n",
       "      <th>y</th>\n",
       "      <th>z</th>\n",
       "      <th>age</th>\n",
       "      <th>hdir</th>\n",
       "      <th>hspeed</th>\n",
       "      <th>vspeed</th>\n",
       "      <th>mass</th>\n",
       "      <th>lat</th>\n",
       "      <th>lon</th>\n",
       "    </tr>\n",
       "  </thead>\n",
       "  <tbody>\n",
       "    <tr>\n",
       "      <th>0</th>\n",
       "      <td>1</td>\n",
       "      <td>559143.42</td>\n",
       "      <td>5933004.6</td>\n",
       "      <td>-2.067983</td>\n",
       "      <td>360.0</td>\n",
       "      <td>272.339540</td>\n",
       "      <td>0.123424</td>\n",
       "      <td>0.0</td>\n",
       "      <td>4200.0</td>\n",
       "      <td>53.542609</td>\n",
       "      <td>9.892526</td>\n",
       "    </tr>\n",
       "    <tr>\n",
       "      <th>1</th>\n",
       "      <td>101</td>\n",
       "      <td>559206.58</td>\n",
       "      <td>5933023.8</td>\n",
       "      <td>-2.070086</td>\n",
       "      <td>300.0</td>\n",
       "      <td>272.591000</td>\n",
       "      <td>0.100904</td>\n",
       "      <td>0.0</td>\n",
       "      <td>4200.0</td>\n",
       "      <td>53.542775</td>\n",
       "      <td>9.893483</td>\n",
       "    </tr>\n",
       "    <tr>\n",
       "      <th>2</th>\n",
       "      <td>201</td>\n",
       "      <td>559199.41</td>\n",
       "      <td>5933043.5</td>\n",
       "      <td>-2.069864</td>\n",
       "      <td>240.0</td>\n",
       "      <td>273.449240</td>\n",
       "      <td>0.070693</td>\n",
       "      <td>0.0</td>\n",
       "      <td>4200.0</td>\n",
       "      <td>53.542952</td>\n",
       "      <td>9.893378</td>\n",
       "    </tr>\n",
       "    <tr>\n",
       "      <th>3</th>\n",
       "      <td>301</td>\n",
       "      <td>559179.38</td>\n",
       "      <td>5933003.5</td>\n",
       "      <td>-2.069601</td>\n",
       "      <td>180.0</td>\n",
       "      <td>272.231470</td>\n",
       "      <td>0.135693</td>\n",
       "      <td>0.0</td>\n",
       "      <td>4200.0</td>\n",
       "      <td>53.542595</td>\n",
       "      <td>9.893068</td>\n",
       "    </tr>\n",
       "    <tr>\n",
       "      <th>4</th>\n",
       "      <td>401</td>\n",
       "      <td>559233.68</td>\n",
       "      <td>5933022.9</td>\n",
       "      <td>-2.071397</td>\n",
       "      <td>120.0</td>\n",
       "      <td>272.447740</td>\n",
       "      <td>0.089183</td>\n",
       "      <td>0.0</td>\n",
       "      <td>4200.0</td>\n",
       "      <td>53.542763</td>\n",
       "      <td>9.893891</td>\n",
       "    </tr>\n",
       "    <tr>\n",
       "      <th>...</th>\n",
       "      <td>...</td>\n",
       "      <td>...</td>\n",
       "      <td>...</td>\n",
       "      <td>...</td>\n",
       "      <td>...</td>\n",
       "      <td>...</td>\n",
       "      <td>...</td>\n",
       "      <td>...</td>\n",
       "      <td>...</td>\n",
       "      <td>...</td>\n",
       "      <td>...</td>\n",
       "    </tr>\n",
       "    <tr>\n",
       "      <th>1559</th>\n",
       "      <td>901</td>\n",
       "      <td>559753.48</td>\n",
       "      <td>5932974.3</td>\n",
       "      <td>-1.253812</td>\n",
       "      <td>46620.0</td>\n",
       "      <td>90.068212</td>\n",
       "      <td>0.313864</td>\n",
       "      <td>0.0</td>\n",
       "      <td>4200.0</td>\n",
       "      <td>53.542268</td>\n",
       "      <td>9.901725</td>\n",
       "    </tr>\n",
       "    <tr>\n",
       "      <th>1560</th>\n",
       "      <td>201</td>\n",
       "      <td>559985.72</td>\n",
       "      <td>5933035.7</td>\n",
       "      <td>-1.252950</td>\n",
       "      <td>47040.0</td>\n",
       "      <td>89.275999</td>\n",
       "      <td>0.300361</td>\n",
       "      <td>0.0</td>\n",
       "      <td>4200.0</td>\n",
       "      <td>53.542793</td>\n",
       "      <td>9.905241</td>\n",
       "    </tr>\n",
       "    <tr>\n",
       "      <th>1561</th>\n",
       "      <td>1101</td>\n",
       "      <td>559914.86</td>\n",
       "      <td>5933029.4</td>\n",
       "      <td>-1.253288</td>\n",
       "      <td>46500.0</td>\n",
       "      <td>89.507743</td>\n",
       "      <td>0.294936</td>\n",
       "      <td>0.0</td>\n",
       "      <td>4200.0</td>\n",
       "      <td>53.542745</td>\n",
       "      <td>9.904171</td>\n",
       "    </tr>\n",
       "    <tr>\n",
       "      <th>1562</th>\n",
       "      <td>801</td>\n",
       "      <td>559905.34</td>\n",
       "      <td>5933027.4</td>\n",
       "      <td>-1.253379</td>\n",
       "      <td>46680.0</td>\n",
       "      <td>89.602544</td>\n",
       "      <td>0.292492</td>\n",
       "      <td>0.0</td>\n",
       "      <td>4200.0</td>\n",
       "      <td>53.542728</td>\n",
       "      <td>9.904027</td>\n",
       "    </tr>\n",
       "    <tr>\n",
       "      <th>1563</th>\n",
       "      <td>501</td>\n",
       "      <td>559892.63</td>\n",
       "      <td>5933027.1</td>\n",
       "      <td>-1.253428</td>\n",
       "      <td>46860.0</td>\n",
       "      <td>89.674027</td>\n",
       "      <td>0.292090</td>\n",
       "      <td>0.0</td>\n",
       "      <td>4200.0</td>\n",
       "      <td>53.542726</td>\n",
       "      <td>9.903835</td>\n",
       "    </tr>\n",
       "  </tbody>\n",
       "</table>\n",
       "<p>1564 rows × 11 columns</p>\n",
       "</div>"
      ],
      "text/plain": [
       "        Nr          x          y         z      age        hdir    hspeed  \\\n",
       "0        1  559143.42  5933004.6 -2.067983    360.0  272.339540  0.123424   \n",
       "1      101  559206.58  5933023.8 -2.070086    300.0  272.591000  0.100904   \n",
       "2      201  559199.41  5933043.5 -2.069864    240.0  273.449240  0.070693   \n",
       "3      301  559179.38  5933003.5 -2.069601    180.0  272.231470  0.135693   \n",
       "4      401  559233.68  5933022.9 -2.071397    120.0  272.447740  0.089183   \n",
       "...    ...        ...        ...       ...      ...         ...       ...   \n",
       "1559   901  559753.48  5932974.3 -1.253812  46620.0   90.068212  0.313864   \n",
       "1560   201  559985.72  5933035.7 -1.252950  47040.0   89.275999  0.300361   \n",
       "1561  1101  559914.86  5933029.4 -1.253288  46500.0   89.507743  0.294936   \n",
       "1562   801  559905.34  5933027.4 -1.253379  46680.0   89.602544  0.292492   \n",
       "1563   501  559892.63  5933027.1 -1.253428  46860.0   89.674027  0.292090   \n",
       "\n",
       "      vspeed    mass        lat       lon  \n",
       "0        0.0  4200.0  53.542609  9.892526  \n",
       "1        0.0  4200.0  53.542775  9.893483  \n",
       "2        0.0  4200.0  53.542952  9.893378  \n",
       "3        0.0  4200.0  53.542595  9.893068  \n",
       "4        0.0  4200.0  53.542763  9.893891  \n",
       "...      ...     ...        ...       ...  \n",
       "1559     0.0  4200.0  53.542268  9.901725  \n",
       "1560     0.0  4200.0  53.542793  9.905241  \n",
       "1561     0.0  4200.0  53.542745  9.904171  \n",
       "1562     0.0  4200.0  53.542728  9.904027  \n",
       "1563     0.0  4200.0  53.542726  9.903835  \n",
       "\n",
       "[1564 rows x 11 columns]"
      ]
     },
     "execution_count": 4,
     "metadata": {},
     "output_type": "execute_result"
    }
   ],
   "source": [
    "transformer = Transformer.from_crs(\"epsg:25832\", \"epsg:4326\")\n",
    "xt, yt = transformer.transform(df['x'], df['y'])\n",
    "df['lat'], df['lon'] = xt, yt\n",
    "df"
   ]
  },
  {
   "cell_type": "markdown",
   "metadata": {},
   "source": [
    "**plot static results**"
   ]
  },
  {
   "cell_type": "code",
   "execution_count": 5,
   "metadata": {},
   "outputs": [
    {
     "data": {
      "image/png": "[encoded data removed]",
      "text/plain": [
       "<Figure size 1152x720 with 2 Axes>"
      ]
     },
     "metadata": {
      "needs_background": "light"
     },
     "output_type": "display_data"
    }
   ],
   "source": [
    "fig, ax = plt.subplots(1,1, figsize=(16,10))\n",
    "df.plot.scatter('x','y', c='age', edgecolor='None', ax=ax)\n",
    "ctx.add_basemap(ax=ax, crs='epsg:25832', source=ctx.providers.Stamen.TonerLite) #ctx.providers.OpenStreetMap.Mapnik"
   ]
  },
  {
   "cell_type": "markdown",
   "metadata": {},
   "source": [
    "**plot dynamic results**"
   ]
  },
  {
   "cell_type": "code",
   "execution_count": 28,
   "metadata": {},
   "outputs": [
    {
     "data": {
      "application/vnd.plotly.v1+json": {
       "config": {
        "plotlyServerURL": "https://plot.ly"
       },
       "data": [
        {
         "coloraxis": "coloraxis",
         "hovertemplate": "minutes=10.0<br>lat=%{lat}<br>lon=%{lon}<extra></extra>",
         "lat": [
          53.542609115807196,
          53.54277455959418,
          53.54295242186438,
          53.5425951787268,
          53.54276341502941,
          53.54294265905262,
          53.542536124825055,
          53.542710081462026,
          53.542888378934,
          53.542525637703385,
          53.5427046774837,
          53.54288592120531,
          53.542532984662884,
          53.54272484146297,
          53.54291421822726,
          53.54256655818639,
          53.542624339723254,
          53.54280873351884,
          53.54245649322914,
          53.542651537877944
         ],
         "lon": [
          9.892526091823324,
          9.893482738307979,
          9.893378278875765,
          9.893068479282196,
          9.893891477608252,
          9.893722458021722,
          9.89519600247116,
          9.896093378104945,
          9.896051115256974,
          9.895516167562276,
          9.896214748720988,
          9.89589924449484,
          9.895255244676244,
          9.894722345265684,
          9.895001303213215,
          9.894252084974775,
          9.899013987081203,
          9.899117496928573,
          9.898502762998342,
          9.897666914132897
         ],
         "name": "",
         "radius": 10,
         "subplot": "mapbox",
         "type": "densitymapbox"
        }
       ],
       "frames": [
        {
         "data": [
          {
           "coloraxis": "coloraxis",
           "hovertemplate": "minutes=10.0<br>lat=%{lat}<br>lon=%{lon}<extra></extra>",
           "lat": [
            53.542609115807196,
            53.54277455959418,
            53.54295242186438,
            53.5425951787268,
            53.54276341502941,
            53.54294265905262,
            53.542536124825055,
            53.542710081462026,
            53.542888378934,
            53.542525637703385,
            53.5427046774837,
            53.54288592120531,
            53.542532984662884,
            53.54272484146297,
            53.54291421822726,
            53.54256655818639,
            53.542624339723254,
            53.54280873351884,
            53.54245649322914,
            53.542651537877944
           ],
           "lon": [
            9.892526091823324,
            9.893482738307979,
            9.893378278875765,
            9.893068479282196,
            9.893891477608252,
            9.893722458021722,
            9.89519600247116,
            9.896093378104945,
            9.896051115256974,
            9.895516167562276,
            9.896214748720988,
            9.89589924449484,
            9.895255244676244,
            9.894722345265684,
            9.895001303213215,
            9.894252084974775,
            9.899013987081203,
            9.899117496928573,
            9.898502762998342,
            9.897666914132897
           ],
           "name": "",
           "radius": 10,
           "subplot": "mapbox",
           "type": "densitymapbox"
          }
         ],
         "name": "10.0"
        },
        {
         "data": [
          {
           "coloraxis": "coloraxis",
           "hovertemplate": "minutes=0.0<br>lat=%{lat}<br>lon=%{lon}<extra></extra>",
           "lat": [
            53.542582458142576,
            53.54276277211049
           ],
           "lon": [
            9.893568032945815,
            9.893496374064005
           ],
           "name": "",
           "radius": 10,
           "subplot": "mapbox",
           "type": "densitymapbox"
          }
         ],
         "name": "0.0"
        },
        {
         "data": [
          {
           "coloraxis": "coloraxis",
           "hovertemplate": "minutes=20.0<br>lat=%{lat}<br>lon=%{lon}<extra></extra>",
           "lat": [
            53.54256163842558,
            53.542726217908076,
            53.54290406151972,
            53.54255063729019,
            53.542718044544664,
            53.542894650865435,
            53.54239826082133,
            53.54258388369519,
            53.54275764481914,
            53.54239076943168,
            53.5425767713527,
            53.542755053842434,
            53.5423952225666,
            53.542594604497474,
            53.54278065763491,
            53.542426741960305,
            53.5425488612599,
            53.54270935731767,
            53.54238514262589,
            53.54255413702566
           ],
           "lon": [
            9.894188749069306,
            9.895379146782707,
            9.89551751472255,
            9.89469814759604,
            9.895750370631447,
            9.895813860929206,
            9.900508353383044,
            9.901283757097884,
            9.901247305411909,
            9.900786928240304,
            9.901392564723036,
            9.901113994219159,
            9.900553713315714,
            9.900099020698441,
            9.90034020310824,
            9.899710030845094,
            9.906749055703639,
            9.906802588832159,
            9.906290557970493,
            9.905340854705
           ],
           "name": "",
           "radius": 10,
           "subplot": "mapbox",
           "type": "densitymapbox"
          }
         ],
         "name": "20.0"
        },
        {
         "data": [
          {
           "coloraxis": "coloraxis",
           "hovertemplate": "minutes=30.0<br>lat=%{lat}<br>lon=%{lon}<extra></extra>",
           "lat": [
            53.54242002305159,
            53.54259744795213,
            53.54277010084496,
            53.54241210151649,
            53.54258962194732,
            53.542765523328434,
            53.54252189497734,
            53.542679742555045,
            53.542343326222394,
            53.54252060292453,
            53.54266761499694,
            53.542351474857185,
            53.54235019668838,
            53.54252364078178,
            53.54268889676158,
            53.54237082952115,
            53.54258901609915,
            53.54277904907109,
            53.54242569911064,
            53.542578786083475
           ],
           "lon": [
            9.89964725998596,
            9.90067647187547,
            9.900787134363407,
            9.900102694553526,
            9.900999409149218,
            9.901036798204714,
            9.909353375355755,
            9.909282207567896,
            9.908839466915675,
            9.909523274845627,
            9.909103870602113,
            9.908476849908565,
            9.908526774287362,
            9.907940572372068,
            9.908195831377702,
            9.907585225332168,
            9.916339951097651,
            9.915587980044412,
            9.916420481839157,
            9.91485837283114
           ],
           "name": "",
           "radius": 10,
           "subplot": "mapbox",
           "type": "densitymapbox"
          }
         ],
         "name": "30.0"
        },
        {
         "data": [
          {
           "coloraxis": "coloraxis",
           "hovertemplate": "minutes=40.0<br>lat=%{lat}<br>lon=%{lon}<extra></extra>",
           "lat": [
            53.5425064953799,
            53.54267818368144,
            53.54252556595116,
            53.542678540948174,
            53.542361294511444,
            53.54236330073629,
            53.54255688343859,
            53.54270978852297,
            53.5423800382583,
            53.542558665896195,
            53.54269826691921,
            53.54239188286501,
            53.5423959997994,
            53.54255534162689,
            53.54273556999849,
            53.542406628744665,
            53.54248145080126,
            53.54270161273326,
            53.542244881812294,
            53.54252672838027
           ],
           "lon": [
            9.909014247439721,
            9.909014303944575,
            9.90863390441667,
            9.908730746457415,
            9.908012403170396,
            9.90751126848326,
            9.919004522250091,
            9.917939068209243,
            9.9192075918962,
            9.919123479904037,
            9.917800582649235,
            9.91883600158798,
            9.918885137117105,
            9.917566443903407,
            9.916921868034722,
            9.917852224140642,
            9.925173539623696,
            9.923786921946258,
            9.926123197903037,
            9.923967830995945
           ],
           "name": "",
           "radius": 10,
           "subplot": "mapbox",
           "type": "densitymapbox"
          }
         ],
         "name": "40.0"
        },
        {
         "data": [
          {
           "coloraxis": "coloraxis",
           "hovertemplate": "minutes=50.0<br>lat=%{lat}<br>lon=%{lon}<extra></extra>",
           "lat": [
            53.542544451277436,
            53.542721687087244,
            53.54256020497387,
            53.54272584122569,
            53.54239557666993,
            53.54239645871672,
            53.54222750100295,
            53.542581400646235,
            53.54194984046074,
            53.54220269053674,
            53.542568864973376,
            53.542010334923056,
            53.54200830791976,
            53.54236265920295,
            53.542647163951216,
            53.542120177072945,
            53.54186436841597,
            53.54213293574451,
            53.54168333217763,
            53.54191141201472
           ],
           "lon": [
            9.918750720063885,
            9.91755993021247,
            9.918221056527722,
            9.917487129039145,
            9.918355125331189,
            9.917771869911876,
            9.927553911441795,
            9.925964237736604,
            9.928467942324566,
            9.927739442719826,
            9.92595792764778,
            9.928085953054213,
            9.928115487202646,
            9.926468489644309,
            9.925132633838762,
            9.927252006760908,
            9.932636474421578,
            9.93081650404158,
            9.933949331855855,
            9.931675304074073
           ],
           "name": "",
           "radius": 10,
           "subplot": "mapbox",
           "type": "densitymapbox"
          }
         ],
         "name": "50.0"
        },
        {
         "data": [
          {
           "coloraxis": "coloraxis",
           "hovertemplate": "minutes=60.0<br>lat=%{lat}<br>lon=%{lon}<extra></extra>",
           "lat": [
            53.54222273698096,
            53.542610463280845,
            53.54233378142841,
            53.54261918849213,
            53.54204076698786,
            53.54211413506474,
            53.541881304714664,
            53.542031772503556,
            53.54172615304895,
            53.54187844559478,
            53.54202350727893,
            53.541728870466706,
            53.54173518408707,
            53.541848494703295,
            53.54207279976209,
            53.54171181412857,
            53.5420779776482,
            53.54222186015212,
            53.54189465766909,
            53.54208139439405
           ],
           "lon": [
            9.927472767868426,
            9.925693530866843,
            9.926831103739275,
            9.925611473763269,
            9.927755218693271,
            9.927219730670132,
            9.934842098442331,
            9.932840110975183,
            9.936175287523389,
            9.93497785469181,
            9.932862565869467,
            9.935828104138094,
            9.935825376107505,
            9.933864232257047,
            9.93195908951955,
            9.934905820671608,
            9.939339505283622,
            9.936925691627334,
            9.941047525168974,
            9.938331796978572
           ],
           "name": "",
           "radius": 10,
           "subplot": "mapbox",
           "type": "densitymapbox"
          }
         ],
         "name": "60.0"
        },
        {
         "data": [
          {
           "coloraxis": "coloraxis",
           "hovertemplate": "minutes=70.0<br>lat=%{lat}<br>lon=%{lon}<extra></extra>",
           "lat": [
            53.541856966754516,
            53.54206275640463,
            53.54186924746158,
            53.54203710470504,
            53.54171569567138,
            53.54169471547157,
            53.54206845714137,
            53.54225376595155,
            53.54182735027431,
            53.542059337219946,
            53.54224639828509,
            53.54185108659826,
            53.54185921213042,
            53.54206838680219,
            53.54224935887536,
            53.541892788333364,
            53.54216486283081,
            53.54232686632656,
            53.54206798881491,
            53.54215377085154
           ],
           "lon": [
            9.934850767722006,
            9.93255557059019,
            9.934084414319152,
            9.932502187998733,
            9.935558892459996,
            9.935023304323394,
            9.941578814015893,
            9.939160944944481,
            9.943315419652244,
            9.941709602374095,
            9.939183418604323,
            9.94292720250131,
            9.942922704861644,
            9.940559710298484,
            9.938119104350806,
            9.941969999023778,
            9.945537850391116,
            9.94277977142963,
            9.947442453169847,
            9.944552755535009
           ],
           "name": "",
           "radius": 10,
           "subplot": "mapbox",
           "type": "densitymapbox"
          }
         ],
         "name": "70.0"
        },
        {
         "data": [
          {
           "coloraxis": "coloraxis",
           "hovertemplate": "minutes=80.0<br>lat=%{lat}<br>lon=%{lon}<extra></extra>",
           "lat": [
            53.54204389535818,
            53.54227440316082,
            53.54208787473702,
            53.54223834814719,
            53.541853698324786,
            53.54185777103221,
            53.542271901204,
            53.5423307862688,
            53.54219673279247,
            53.54227549087177,
            53.5423232410315,
            53.542179847434205,
            53.542186196082035,
            53.54220302222252,
            53.542318427322755,
            53.54213840228866,
            53.54268784170637,
            53.54259445706865,
            53.54278337553334,
            53.542581615503856
           ],
           "lon": [
            9.94161584576324,
            9.93870776109049,
            9.940824840361717,
            9.938720394520233,
            9.94270994973441,
            9.942193172467345,
            9.947686654624746,
            9.945016374299534,
            9.949570313995203,
            9.947800824161174,
            9.945061178012443,
            9.949206239307724,
            9.94919913758558,
            9.946736335006767,
            9.943963488112972,
            9.948311916770788,
            9.95111473600713,
            9.948272308865903,
            9.953002695348008,
            9.950229815624986
           ],
           "name": "",
           "radius": 10,
           "subplot": "mapbox",
           "type": "densitymapbox"
          }
         ],
         "name": "80.0"
        },
        {
         "data": [
          {
           "coloraxis": "coloraxis",
           "hovertemplate": "minutes=90.0<br>lat=%{lat}<br>lon=%{lon}<extra></extra>",
           "lat": [
            53.54225858586246,
            53.542339189860854,
            53.54224011252359,
            53.54230552776072,
            53.54216248282216,
            53.542119473851066,
            53.5429870868412,
            53.54278464320592,
            53.5430534690956,
            53.54300426547238,
            53.54278675902946,
            53.54300491563771,
            53.54301126460451,
            53.542837746438806,
            53.542683523229,
            53.54291371252083,
            53.54351630726607,
            53.543237465210126,
            53.543628521946545,
            53.543379857149354
           ],
           "lon": [
            9.947778866135069,
            9.94452156999796,
            9.946933649680473,
            9.944572583408538,
            9.94901570238316,
            9.948545104397205,
            9.953045150670317,
            9.95035841381483,
            9.954977746270071,
            9.95314544196194,
            9.950431503439408,
            9.9546416231287,
            9.95463452208728,
            9.952157893254622,
            9.949395736358625,
            9.953792338665084,
            9.955889587768656,
            9.952871487590679,
            9.95793009622416,
            9.954966681211792
           ],
           "name": "",
           "radius": 10,
           "subplot": "mapbox",
           "type": "densitymapbox"
          }
         ],
         "name": "90.0"
        },
        {
         "data": [
          {
           "coloraxis": "coloraxis",
           "hovertemplate": "minutes=100.0<br>lat=%{lat}<br>lon=%{lon}<extra></extra>",
           "lat": [
            53.54298718587687,
            53.54274978811792,
            53.542896273662706,
            53.5427218707433,
            53.542987504317736,
            53.54290730874921,
            53.5438381507632,
            53.5435596031641,
            53.543893997601856,
            53.54385625545985,
            53.54357145050554,
            53.543847768415766,
            53.543854972821805,
            53.54368748745281,
            53.54339833794069,
            53.543761232122655,
            53.54426953098783,
            53.543998255380885,
            53.544288391354335,
            53.54414926702406
           ],
           "lon": [
            9.953145511002623,
            9.949880444380288,
            9.952371241063348,
            9.950000097385947,
            9.954458021196091,
            9.954031695497576,
            9.957906909693955,
            9.954858294305447,
            9.960134358363748,
            9.958003302066032,
            9.954950620041748,
            9.959734436939799,
            9.959732788903587,
            9.956964804249115,
            9.95389001021899,
            9.958756044550647,
            9.960831501056846,
            9.956996111863342,
            9.963291760120413,
            9.959688586768019
           ],
           "name": "",
           "radius": 10,
           "subplot": "mapbox",
           "type": "densitymapbox"
          }
         ],
         "name": "100.0"
        },
        {
         "data": [
          {
           "coloraxis": "coloraxis",
           "hovertemplate": "minutes=110.0<br>lat=%{lat}<br>lon=%{lon}<extra></extra>",
           "lat": [
            53.54383819373266,
            53.54349368004343,
            53.543748049885835,
            53.54348739561767,
            53.543830443638505,
            53.54374907387022,
            53.544472253670634,
            53.544311803566835,
            53.54431162225115,
            53.54448122318884,
            53.544322575554524,
            53.54433047311121,
            53.544336702115125,
            53.54439377799745,
            53.54415602239092,
            53.54435555104145,
            53.54454154924729,
            53.54464379734691,
            53.544153307739435,
            53.54460264574106
           ],
           "lon": [
            9.958013760280837,
            9.954333282079624,
            9.957147421872001,
            9.954557553173384,
            9.959541021502634,
            9.95903919235604,
            9.963342870967649,
            9.959372918369588,
            9.965872404083651,
            9.9634568682417,
            9.959486804179411,
            9.965430337607742,
            9.965438176246568,
            9.962148371599087,
            9.958173516022779,
            9.964327536058606,
            9.966452342714259,
            9.961909248840968,
            9.968886118990778,
            9.965231581457042
           ],
           "name": "",
           "radius": 10,
           "subplot": "mapbox",
           "type": "densitymapbox"
          }
         ],
         "name": "110.0"
        },
        {
         "data": [
          {
           "coloraxis": "coloraxis",
           "hovertemplate": "minutes=120.0<br>lat=%{lat}<br>lon=%{lon}<extra></extra>",
           "lat": [
            53.54446956640074,
            53.5442469225881,
            53.54443338474016,
            53.54424214183503,
            53.54434308977253,
            53.54432899986042,
            53.544355151979005,
            53.54476348430163,
            53.5436793496816,
            53.5442807321793,
            53.5447568622902,
            53.54377850439263,
            53.54378473304436,
            53.54446936982128,
            53.54470818778461,
            53.544009819106876,
            53.5439231690664,
            53.54477403040905,
            53.543270748443604,
            53.544160405746766
           ],
           "lon": [
            9.963453283280671,
            9.958720386597703,
            9.962364934106738,
            9.958980311975541,
            9.965203641894526,
            9.964610359115971,
            9.968936457272843,
            9.96479394807258,
            9.971131958907378,
            9.96902410180457,
            9.96494622758174,
            9.970765838977854,
            9.970773678292673,
            9.96781924010398,
            9.963401956176575,
            9.969842833350896,
            9.971326489364328,
            9.967271857502615,
            9.973294433976012,
            9.97033887488279
           ],
           "name": "",
           "radius": 10,
           "subplot": "mapbox",
           "type": "densitymapbox"
          }
         ],
         "name": "120.0"
        },
        {
         "data": [
          {
           "coloraxis": "coloraxis",
           "hovertemplate": "minutes=130.0<br>lat=%{lat}<br>lon=%{lon}<extra></extra>",
           "lat": [
            53.5442672573154,
            53.54475704963116,
            53.544429329657916,
            53.54473381908402,
            53.54379181312752,
            53.543882954385374,
            53.54349969637978,
            53.54442925675876,
            53.5425672070492,
            53.54341100300994,
            53.544407576149744,
            53.542712778611794,
            53.54272540143131,
            53.5437236151829,
            53.54460186881559,
            53.54304945156963,
            53.54285460920259,
            53.544151544120524,
            53.54206694062425,
            53.54318183462348
           ],
           "lon": [
            9.969023039429713,
            9.964031349399802,
            9.967990677057156,
            9.964348358890382,
            9.970565875930571,
            9.970079288943493,
            9.973327756735173,
            9.96999655024011,
            9.975244090231975,
            9.973401632815264,
            9.970120563304043,
            9.974919500784608,
            9.974914810684506,
            9.97243237019057,
            9.968773815830055,
            9.974087848212228,
            9.975384406601208,
            9.97198353646478,
            9.97717467096143,
            9.974499113846953
           ],
           "name": "",
           "radius": 10,
           "subplot": "mapbox",
           "type": "densitymapbox"
          }
         ],
         "name": "130.0"
        },
        {
         "data": [
          {
           "coloraxis": "coloraxis",
           "hovertemplate": "minutes=140.0<br>lat=%{lat}<br>lon=%{lon}<extra></extra>",
           "lat": [
            53.54339128620067,
            53.544573892131936,
            53.54365880647194,
            53.54446915657674,
            53.5427295182395,
            53.54286246682728,
            53.54232294673728,
            53.543491064275294,
            53.541311573240115,
            53.542230000261966,
            53.543453151689064,
            53.5414790358408,
            53.54149076007652,
            53.5425839302188,
            53.54379641279792,
            53.5418289605746,
            53.54171838499636,
            53.5430787922073,
            53.5408252132883,
            53.54203915549513
           ],
           "lon": [
            9.9733943892174,
            9.969342146501583,
            9.97255373123263,
            9.969621068190033,
            9.974740599828433,
            9.974310228440437,
            9.977196714775719,
            9.97427742720694,
            9.97907864529923,
            9.977240753132014,
            9.974407250163546,
            9.97871655426216,
            9.978711844694347,
            9.97638930299083,
            9.973207491387457,
            9.97791649953741,
            9.978906638653328,
            9.976001672052027,
            9.980730871493941,
            9.978154351455697
           ],
           "name": "",
           "radius": 10,
           "subplot": "mapbox",
           "type": "densitymapbox"
          }
         ],
         "name": "140.0"
        },
        {
         "data": [
          {
           "coloraxis": "coloraxis",
           "hovertemplate": "minutes=150.0<br>lat=%{lat}<br>lon=%{lon}<extra></extra>",
           "lat": [
            53.54220847759758,
            53.543705092987985,
            53.542509519794585,
            53.54357012840197,
            53.541478343502845,
            53.54161744390313,
            53.54116461031204,
            53.54234007908609,
            53.53992617864491,
            53.5410490372592,
            53.54231176826028,
            53.5401112415282,
            53.54012777189425,
            53.54144639220147,
            53.54267110168266,
            53.540540556657646,
            53.54054094674852,
            53.54206184330164,
            53.53959641261847,
            53.54093412736585
           ],
           "lon": [
            9.977234522746183,
            9.973714440528873,
            9.976475120144368,
            9.973951149741163,
            9.97858147436748,
            9.978169982165511,
            9.980558833688432,
            9.978069836151926,
            9.982827575723284,
            9.980621505898913,
            9.978234130736059,
            9.982403444136878,
            9.982360819034742,
            9.979848828349194,
            9.9770523107894,
            9.981461921048545,
            9.981961882043603,
            9.979445922308615,
            9.984232538482384,
            9.981151251833843
           ],
           "name": "",
           "radius": 10,
           "subplot": "mapbox",
           "type": "densitymapbox"
          }
         ],
         "name": "150.0"
        },
        {
         "data": [
          {
           "coloraxis": "coloraxis",
           "hovertemplate": "minutes=160.0<br>lat=%{lat}<br>lon=%{lon}<extra></extra>",
           "lat": [
            53.54102196526666,
            53.54256189959773,
            53.541368551312026,
            53.542423507749504,
            53.54010145450712,
            53.54026678678772,
            53.53996769227376,
            53.541242664942345,
            53.538790040668516,
            53.539845105216735,
            53.541200028611726,
            53.53896289935311,
            53.53897675228758,
            53.54024239564222,
            53.541619876856146,
            53.539358494897115,
            53.539524617937744,
            53.540978231989484,
            53.53860909434956,
            53.53988795850606
           ],
           "lon": [
            9.980634311016612,
            9.977545546020336,
            9.979914185235863,
            9.977760728194148,
            9.982281739365407,
            9.981851865427206,
            9.983791456360937,
            9.981015476084725,
            9.986639400349818,
            9.98394163045839,
            9.981172340531113,
            9.986170799029042,
            9.986126001697242,
            9.98296075506308,
            9.980287908127597,
            9.985070561804172,
            9.985091621275204,
            9.981910733671288,
            9.987651801801588,
            9.984086586430703
           ],
           "name": "",
           "radius": 10,
           "subplot": "mapbox",
           "type": "densitymapbox"
          }
         ],
         "name": "160.0"
        },
        {
         "data": [
          {
           "coloraxis": "coloraxis",
           "hovertemplate": "minutes=170.0<br>lat=%{lat}<br>lon=%{lon}<extra></extra>",
           "lat": [
            53.539814315057015,
            53.54148713825624,
            53.54015610978625,
            53.54134507878565,
            53.53894582182659,
            53.53908813518177,
            53.53902781449618,
            53.54019918059909,
            53.5378322151175,
            53.53887467359599,
            53.54016341896347,
            53.53799097766225,
            53.538003916944255,
            53.53928856238483,
            53.540539198445195,
            53.538378105662275,
            53.53854643084986,
            53.53999604313825,
            53.53772746105847,
            53.538922203355824
           ],
           "lon": [
            9.98396928633941,
            9.980690033234103,
            9.983069067545719,
            9.980803704186304,
            9.986061602872594,
            9.98559062811639,
            9.98701886120227,
            9.983734198014588,
            9.990179496338634,
            9.987276356506655,
            9.983929092437817,
            9.989677997267975,
            9.989635142445351,
            9.986139133287683,
            9.982831211750172,
            9.988518618901667,
            9.98849070043252,
            9.984824600328968,
            9.991105667398136,
            9.987398786318058
           ],
           "name": "",
           "radius": 10,
           "subplot": "mapbox",
           "type": "densitymapbox"
          }
         ],
         "name": "170.0"
        },
        {
         "data": [
          {
           "coloraxis": "coloraxis",
           "hovertemplate": "minutes=180.0<br>lat=%{lat}<br>lon=%{lon}<extra></extra>",
           "lat": [
            53.538843882673895,
            53.54040859671867,
            53.53920849135697,
            53.54029299784758,
            53.53796554885211,
            53.53809627871838,
            53.53811728984004,
            53.539290816093846,
            53.5372648190669,
            53.53797012162739,
            53.53925407845401,
            53.53734190308159,
            53.53735212734051,
            53.538334743648825,
            53.53960233434422,
            53.53757869589639,
            53.537729451705005,
            53.53909595582258,
            53.5372636737845,
            53.538004184401046
           ],
           "lon": [
            9.987304009334544,
            9.98330037042329,
            9.986256484560904,
            9.983475307004946,
            9.989600748495697,
            9.989119114365534,
            9.990381711695145,
            9.986846613001722,
            9.99356183805348,
            9.990676902264834,
            9.98705023028233,
            9.9930474314232,
            9.993006929054577,
            9.98952274279823,
            9.985914336920908,
            9.991918387775922,
            9.991949676616855,
            9.987910913352113,
            9.994564656931328,
            9.990905401397486
           ],
           "name": "",
           "radius": 10,
           "subplot": "mapbox",
           "type": "densitymapbox"
          }
         ],
         "name": "180.0"
        },
        {
         "data": [
          {
           "coloraxis": "coloraxis",
           "hovertemplate": "minutes=190.0<br>lat=%{lat}<br>lon=%{lon}<extra></extra>",
           "lat": [
            53.537939112438295,
            53.5394886197001,
            53.53825647552316,
            53.539379256384805,
            53.53730649524713,
            53.53736971270956,
            53.53755992444545,
            53.538360321825344,
            53.537126039719354,
            53.53744936373857,
            53.53834814022317,
            53.537149376629316,
            53.53715781219115,
            53.53765237662415,
            53.5386591842021,
            53.537244829965026,
            53.53740988953193,
            53.538314012393066,
            53.53720667589874,
            53.537537925640365
           ],
           "lon": [
            9.99073080303173,
            9.986405296613514,
            9.989639070866454,
            9.986586552987216,
            9.99298141629289,
            9.992512857688,
            9.993746200863242,
            9.990233467466968,
            9.997167373380588,
            9.994070149154114,
            9.99040188764721,
            9.996632398034322,
            9.996590949326972,
            9.992896708896255,
            9.989204365573713,
            9.99542491793029,
            9.99535756729039,
            9.991049199384154,
            9.998168793187762,
            9.99422990968004
           ],
           "name": "",
           "radius": 10,
           "subplot": "mapbox",
           "type": "densitymapbox"
          }
         ],
         "name": "190.0"
        },
        {
         "data": [
          {
           "coloraxis": "coloraxis",
           "hovertemplate": "minutes=200.0<br>lat=%{lat}<br>lon=%{lon}<extra></extra>",
           "lat": [
            53.53741913636765,
            53.53856337822056,
            53.53758569347138,
            53.538440033214265,
            53.53711125071986,
            53.53711806985128,
            53.53744290979859,
            53.53780949105106,
            53.537076203954946,
            53.53736144891016,
            53.53781448601627,
            53.537122596496964,
            53.537132809277765,
            53.5374439629965,
            53.53797824352676,
            53.53722314001888,
            53.53739162755239,
            53.53785786010269,
            53.53711272890979,
            53.537456815675476
           ],
           "lon": [
            9.994137947472908,
            9.989702061167256,
            9.993024768096042,
            9.989942885818602,
            9.996569183349658,
            9.99607441071319,
            9.997220389745486,
            9.99346111669723,
            10.00065819186778,
            9.997610802484784,
            9.993617260699889,
            10.000162843877176,
            10.000124002972285,
            9.996339185915172,
            9.992407580221288,
            9.998995931661927,
            9.998948895569914,
            9.994346956669329,
            10.001556571760046,
            9.99781630051917
           ],
           "name": "",
           "radius": 10,
           "subplot": "mapbox",
           "type": "densitymapbox"
          }
         ],
         "name": "200.0"
        },
        {
         "data": [
          {
           "coloraxis": "coloraxis",
           "hovertemplate": "minutes=210.0<br>lat=%{lat}<br>lon=%{lon}<extra></extra>",
           "lat": [
            53.537333830125945,
            53.537946341574994,
            53.53739849985995,
            53.53785607515729,
            53.5370834425191,
            53.537096263446635,
            53.537439281130894,
            53.537656158819956,
            53.53667556979546,
            53.537328749630355,
            53.53768188416619,
            53.536794488320126,
            53.53680380471949,
            53.53744911350248,
            53.53770021691771,
            53.53705453796899,
            53.53725112110061,
            53.53779694791849,
            53.53659041128567,
            53.53742168596152
           ],
           "lon": [
            9.997688920347096,
            9.992893778871473,
            9.99650923357172,
            9.993155585161361,
            10.000115294794721,
            9.99965702975475,
            10.000560221409076,
            9.996871851618018,
            10.004056806141383,
            10.000985855110017,
            9.99702078687179,
            10.003489998387339,
            10.003450986481944,
            9.999814577433344,
            9.995791564381417,
            10.002279187713944,
            10.002204912861618,
            9.997774653460292,
            10.005205496523773,
            10.001158860804267
           ],
           "name": "",
           "radius": 10,
           "subplot": "mapbox",
           "type": "densitymapbox"
          }
         ],
         "name": "210.0"
        },
        {
         "data": [
          {
           "coloraxis": "coloraxis",
           "hovertemplate": "minutes=220.0<br>lat=%{lat}<br>lon=%{lon}<extra></extra>",
           "lat": [
            53.53728580866114,
            53.53773138547258,
            53.53740010353073,
            53.53766777425338,
            53.53675523059898,
            53.536833016638305,
            53.53706786944953,
            53.53770232424309,
            53.53617095349974,
            53.53687180964414,
            53.53773123256747,
            53.53626694280778,
            53.53627546857058,
            53.53721133850503,
            53.53772655944579,
            53.53650108978142,
            53.53667676688681,
            53.53786402535042,
            53.536113022970746,
            53.53694331216433
           ],
           "lon": [
            10.001068588812615,
            9.996258414517994,
            9.999978200260255,
            9.996556751636742,
            10.003454968253575,
            10.002969120717928,
            10.003690512856709,
            10.000170471815624,
            10.008156040504957,
            10.004344676118706,
            10.000260785618933,
            10.007539063113658,
            10.007487358927323,
            10.002875755870441,
            9.99920696625634,
            10.00609983054009,
            10.005839631557144,
            10.000719775168635,
            10.009269143235027,
            10.004393447202423
           ],
           "name": "",
           "radius": 10,
           "subplot": "mapbox",
           "type": "densitymapbox"
          }
         ],
         "name": "220.0"
        },
        {
         "data": [
          {
           "coloraxis": "coloraxis",
           "hovertemplate": "minutes=230.0<br>lat=%{lat}<br>lon=%{lon}<extra></extra>",
           "lat": [
            53.536819498959616,
            53.53778198196711,
            53.53712466421907,
            53.53771552757861,
            53.536232999812334,
            53.536289640758454,
            53.536534310866216,
            53.53746647861426,
            53.5356612302619,
            53.53637818254135,
            53.53748479506359,
            53.535777703710224,
            53.53578803883452,
            53.53663002226614,
            53.5376618749721,
            53.536032075705876,
            53.53624342950598,
            53.53760219021621,
            53.53561264741164,
            53.53647760608724
           ],
           "lon": [
            10.004472451744988,
            9.999566650574366,
            10.003135358143446,
            9.99988151477851,
            10.007513511091599,
            10.006978738893885,
            10.007598977759685,
            10.002893404575904,
            10.012098585074524,
            10.00831215702106,
            10.002960231493601,
            10.011506556120207,
            10.011453689314626,
            10.006694386079346,
            10.001995663502392,
            10.010126237477841,
            10.009580817179092,
            10.003110431501197,
            10.012952816197737,
            10.008140993539197
           ],
           "name": "",
           "radius": 10,
           "subplot": "mapbox",
           "type": "densitymapbox"
          }
         ],
         "name": "230.0"
        },
        {
         "data": [
          {
           "coloraxis": "coloraxis",
           "hovertemplate": "minutes=240.0<br>lat=%{lat}<br>lon=%{lon}<extra></extra>",
           "lat": [
            53.53633937646755,
            53.53768715897348,
            53.5365527149668,
            53.537536273963134,
            53.53574008629221,
            53.53580729622759,
            53.536099263500866,
            53.53688736530031,
            53.5350402752176,
            53.535917803940336,
            53.53691338890356,
            53.53520564228828,
            53.5352186943912,
            53.53620822172079,
            53.5370986115144,
            53.53551781355212,
            53.53579646575573,
            53.537066354761144,
            53.53498451793641,
            53.53606188603585
           ],
           "lon": [
            10.008436927623798,
            10.002196499835414,
            10.007014858058074,
            10.00260986119378,
            10.011490419672164,
            10.010983523381741,
            10.01121696588763,
            10.006343477009723,
            10.015786844714482,
            10.011946722218918,
            10.006348771843838,
            10.015155415174533,
            10.015100351624927,
            10.01034363938083,
            10.004953469770445,
            10.01374830105852,
            10.012900620166771,
            10.006117004594325,
            10.01642451583315,
            10.011491299668046
           ],
           "name": "",
           "radius": 10,
           "subplot": "mapbox",
           "type": "densitymapbox"
          }
         ],
         "name": "240.0"
        },
        {
         "data": [
          {
           "coloraxis": "coloraxis",
           "hovertemplate": "minutes=250.0<br>lat=%{lat}<br>lon=%{lon}<extra></extra>",
           "lat": [
            53.53587347918627,
            53.53710364307985,
            53.53612267720126,
            53.536952785473076,
            53.535160757484526,
            53.535257084993134,
            53.53562946750689,
            53.53652408806296,
            53.5340642568582,
            53.53541061679452,
            53.53655487514507,
            53.53429736970967,
            53.53431042229056,
            53.53575645066864,
            53.536717972714136,
            53.534797023931034,
            53.535265613624816,
            53.53675792513434,
            53.53405407054906,
            53.53562186817405
           ],
           "lon": [
            10.012085842011118,
            10.005210410866416,
            10.01068035256323,
            10.005939878869299,
            10.015148306006965,
            10.01460168048712,
            10.014467842276956,
            10.00955701391182,
            10.019672122966448,
            10.015258395729273,
            10.009530434822173,
            10.019004628381628,
            10.018949718067548,
            10.013591795347308,
            10.008204948474967,
            10.017331528637374,
            10.016032149932856,
            10.008903476120487,
            10.020023286049476,
            10.014515945117509
           ],
           "name": "",
           "radius": 10,
           "subplot": "mapbox",
           "type": "densitymapbox"
          }
         ],
         "name": "250.0"
        },
        {
         "data": [
          {
           "coloraxis": "coloraxis",
           "hovertemplate": "minutes=260.0<br>lat=%{lat}<br>lon=%{lon}<extra></extra>",
           "lat": [
            53.53535794094989,
            53.536745586966454,
            53.53565993714209,
            53.53659226104776,
            53.53424515911844,
            53.53439680666151,
            53.53282042242702,
            53.53493694354447,
            53.53614907907071,
            53.53460569025219,
            53.53618468354154,
            53.53315983767031,
            53.53317466469807,
            53.5351779996239,
            53.53636643577033,
            53.533814936271646,
            53.53288737059741,
            53.53448706516192,
            53.53645014994492,
            53.534994737457765
           ],
           "lon": [
            10.015427790040203,
            10.008341408216701,
            10.013948908254267,
            10.009148057392288,
            10.019013333139135,
            10.01841162463292,
            10.023325804441232,
            10.01768478892886,
            10.012447310223173,
            10.018688532852323,
            10.012382672950881,
            10.02231826116478,
            10.022266262789444,
            10.01671613786255,
            10.011087227985797,
            10.020868969859123,
            10.02338067908663,
            10.019212425315619,
            10.01139236450267,
            10.017442492521766
           ],
           "name": "",
           "radius": 10,
           "subplot": "mapbox",
           "type": "densitymapbox"
          }
         ],
         "name": "260.0"
        },
        {
         "data": [
          {
           "coloraxis": "coloraxis",
           "hovertemplate": "minutes=270.0<br>lat=%{lat}<br>lon=%{lon}<extra></extra>",
           "lat": [
            53.534537562953886,
            53.53640097947869,
            53.53502310411038,
            53.53622546403407,
            53.53309738883411,
            53.53334341994804,
            53.531774810735435,
            53.5320119550386,
            53.532026649047395,
            53.53262684629125,
            53.53409069003567,
            53.53573995235069,
            53.53366406514922,
            53.53577849132106,
            53.53438620058366,
            53.53599936080684,
            53.53194522435379,
            53.53362781243524,
            53.53612365285477,
            53.53426153524415
           ],
           "lon": [
            10.018877314780918,
            10.01114795505643,
            10.017172330474493,
            10.012025128371747,
            10.022367905310553,
            10.021768346208267,
            10.026807696159969,
            10.025989346380861,
            10.025953038606172,
            10.024411989018764,
            10.020788241239401,
            10.015112819955537,
            10.021693985839619,
            10.015020341130535,
            10.019866955160104,
            10.013673494981441,
            10.02643296882435,
            10.021833886091718,
            10.013644776802701,
            10.020255353232848
           ],
           "name": "",
           "radius": 10,
           "subplot": "mapbox",
           "type": "densitymapbox"
          }
         ],
         "name": "270.0"
        },
        {
         "data": [
          {
           "coloraxis": "coloraxis",
           "hovertemplate": "minutes=280.0<br>lat=%{lat}<br>lon=%{lon}<extra></extra>",
           "lat": [
            53.53200431096881,
            53.532198965604074,
            53.533573626308716,
            53.536036924205625,
            53.534195252954675,
            53.535827165901225,
            53.53072801358065,
            53.53098900995669,
            53.531005450390275,
            53.53167208484755,
            53.53258126657569,
            53.532988668579634,
            53.53519929015889,
            53.53525236202993,
            53.53350538271771,
            53.535586169657925,
            53.53102290580453,
            53.532629984686444,
            53.5357696962333,
            53.53347548637604
           ],
           "lon": [
            10.026042119202568,
            10.025356109751844,
            10.021863361379475,
            10.013695969581576,
            10.02033297394939,
            10.014686831750586,
            10.02978924870889,
            10.029021905218787,
            10.028991676606694,
            10.02736012996853,
            10.024905619137735,
            10.02383319615786,
            10.017594813753288,
            10.017484882014196,
            10.02238060023779,
            10.016073623668523,
            10.029156853000332,
            10.024780057590307,
            10.0157385161696,
            10.022407793138942
           ],
           "name": "",
           "radius": 10,
           "subplot": "mapbox",
           "type": "densitymapbox"
          }
         ],
         "name": "280.0"
        },
        {
         "data": [
          {
           "coloraxis": "coloraxis",
           "hovertemplate": "minutes=290.0<br>lat=%{lat}<br>lon=%{lon}<extra></extra>",
           "lat": [
            53.530979456772,
            53.53118853549398,
            53.532478548874835,
            53.53562561977387,
            53.53311430321925,
            53.535326300011185,
            53.529761875008106,
            53.52999367538529,
            53.53000918655204,
            53.53069701078133,
            53.531751219581515,
            53.53216788231381,
            53.53460503702885,
            53.534667174233626,
            53.53350538142791,
            53.53504139819465,
            53.53011811019226,
            53.53192286212376,
            53.535335112433344,
            53.533475485086186
           ],
           "lon": [
            10.02908745413767,
            10.028398656107738,
            10.025143638294926,
            10.016085583111469,
            10.02322787761428,
            10.017141121081158,
            10.032582070948168,
            10.031762605680944,
            10.031735977103596,
            10.030049052076567,
            10.027565727338157,
            10.026359746622065,
            10.020030492952207,
            10.019911881367785,
            10.022380751088367,
            10.018402498372422,
            10.031613704553262,
            10.02715286131902,
            10.017690112259555,
            10.022407943989412
           ],
           "name": "",
           "radius": 10,
           "subplot": "mapbox",
           "type": "densitymapbox"
          }
         ],
         "name": "290.0"
        },
        {
         "data": [
          {
           "coloraxis": "coloraxis",
           "hovertemplate": "minutes=300.0<br>lat=%{lat}<br>lon=%{lon}<extra></extra>",
           "lat": [
            53.52998858825704,
            53.530182537173765,
            53.53164486026091,
            53.532290100288314,
            53.53509184341943,
            53.53474373942478,
            53.52903161801419,
            53.52922822263226,
            53.52924194606386,
            53.52982574771329,
            53.53086784025467,
            53.531429929512875,
            53.53393230942217,
            53.534011847762535,
            53.53350448141921,
            53.53449568166996,
            53.52944832627879,
            53.53122327173362,
            53.534910421852075,
            53.53347548379634
           ],
           "lon": [
            10.03183127841565,
            10.031126753462184,
            10.02780847530601,
            10.025944620889334,
            10.018389978169486,
            10.019577094706204,
            10.03511710868258,
            10.034315671845798,
            10.034287945044762,
            10.032576232182272,
            10.0299403451853,
            10.028759964904037,
            10.021966148671101,
            10.021810088995604,
            10.022380880289347,
            10.020520806359167,
            10.033810801614063,
            10.029167293603102,
            10.019531910140214,
            10.022408094839882
           ],
           "name": "",
           "radius": 10,
           "subplot": "mapbox",
           "type": "densitymapbox"
          }
         ],
         "name": "300.0"
        },
        {
         "data": [
          {
           "coloraxis": "coloraxis",
           "hovertemplate": "minutes=310.0<br>lat=%{lat}<br>lon=%{lon}<extra></extra>",
           "lat": [
            53.52922401971168,
            53.52938205449694,
            53.53074159650495,
            53.53152052422115,
            53.534560702309605,
            53.5341220888689,
            53.52851165826418,
            53.528676590543334,
            53.5286866803823,
            53.5291945844876,
            53.53009048044259,
            53.53058502191591,
            53.53316683457426,
            53.53324911708121,
            53.53350448012939,
            53.5338959132557,
            53.52899797422105,
            53.530559360949354,
            53.53456712196872,
            53.53347458378761
           ],
           "lon": [
            10.034385873266073,
            10.033678234875428,
            10.030195121990733,
            10.028364605963171,
            10.0204857047308,
            10.02153240105533,
            10.037236893226565,
            10.036461405563722,
            10.0364381170315,
            10.034774994987846,
            10.032107131105855,
            10.030840068694223,
            10.024126731962284,
            10.023965464482448,
            10.022381031139918,
            10.022122794137243,
            10.035472935017431,
            10.030792826259667,
            10.020786724580853,
            10.0224082240402
           ],
           "name": "",
           "radius": 10,
           "subplot": "mapbox",
           "type": "densitymapbox"
          }
         ],
         "name": "310.0"
        },
        {
         "data": [
          {
           "coloraxis": "coloraxis",
           "hovertemplate": "minutes=320.0<br>lat=%{lat}<br>lon=%{lon}<extra></extra>",
           "lat": [
            53.528675974692455,
            53.528806120110836,
            53.529976737306036,
            53.530706426821304,
            53.53344150168932,
            53.53398108526456,
            53.52807375335238,
            53.52826356645474,
            53.52827728158283,
            53.52877763109127,
            53.52957333521942,
            53.53001210378265,
            53.532727123052176,
            53.53279334301724,
            53.53333430837715,
            53.533504478839575,
            53.52875026038334,
            53.530184354907114,
            53.53433125923391,
            53.53347458249776
           ],
           "lon": [
            10.036532447788241,
            10.035828973486618,
            10.032371102199981,
            10.03041680429877,
            10.02364827596773,
            10.02204382104535,
            10.038805874957523,
            10.038064803044007,
            10.038038133911435,
            10.03641951834959,
            10.033803738092498,
            10.032543500844714,
            10.02550737622296,
            10.025332598523322,
            10.02388438439242,
            10.022381181990493,
            10.03646607079191,
            10.031853839988916,
            10.021459277597977,
            10.022408374890665
           ],
           "name": "",
           "radius": 10,
           "subplot": "mapbox",
           "type": "densitymapbox"
          }
         ],
         "name": "320.0"
        },
        {
         "data": [
          {
           "coloraxis": "coloraxis",
           "hovertemplate": "minutes=330.0<br>lat=%{lat}<br>lon=%{lon}<extra></extra>",
           "lat": [
            53.5282647981592,
            53.5284046189342,
            53.5294676807236,
            53.530102951802995,
            53.53292047649995,
            53.533429760079734,
            53.52763742746753,
            53.52790472478603,
            53.527923869113714,
            53.52852843262572,
            53.529287646278654,
            53.529693898324894,
            53.53250404814457,
            53.53255968539661,
            53.533053229066326,
            53.53350447754976,
            53.52866085279134,
            53.53007097588832,
            53.534257215480295,
            53.5334727773209
           ],
           "lon": [
            10.038130006082179,
            10.037452124938698,
            10.034067445930075,
            10.032120258277589,
            10.025077665740017,
            10.023759795884594,
            10.039777604472164,
            10.039016716878495,
            10.038985957022193,
            10.037375645544989,
            10.034824032337058,
            10.033583087676762,
            10.026362595125825,
            10.026164177646956,
            10.02469145057842,
            10.022381332841068,
            10.036721413634234,
            10.032179828584413,
            10.021603551498005,
            10.022409236693115
           ],
           "name": "",
           "radius": 10,
           "subplot": "mapbox",
           "type": "densitymapbox"
          }
         ],
         "name": "330.0"
        },
        {
         "data": [
          {
           "coloraxis": "coloraxis",
           "hovertemplate": "minutes=340.0<br>lat=%{lat}<br>lon=%{lon}<extra></extra>",
           "lat": [
            53.527903339786555,
            53.52808424740202,
            53.529186480516266,
            53.52977294938892,
            53.53267600366636,
            53.53312401679582,
            53.527249447576565,
            53.52761089895252,
            53.527631877524755,
            53.52838690284876,
            53.52920689374259,
            53.529607631318214,
            53.532458876586944,
            53.53251887056085,
            53.533005469364525,
            53.53350177236438,
            53.52874726964805,
            53.530214415455845,
            53.53440560359108,
            53.53364004525793
           ],
           "lon": [
            10.039072652767219,
            10.038425656284701,
            10.035088147084828,
            10.033173141486827,
            10.0259127592751,
            10.024612891310348,
            10.040357660882783,
            10.03941700049592,
            10.039382061833347,
            10.037629107623493,
            10.03511836557078,
            10.033891775052773,
            10.026598381206817,
            10.02641606269159,
            10.024914957672383,
            10.022382323846204,
            10.036188858898571,
            10.031703700674699,
            10.021174536652817,
            10.021980234508801
           ],
           "name": "",
           "radius": 10,
           "subplot": "mapbox",
           "type": "densitymapbox"
          }
         ],
         "name": "340.0"
        },
        {
         "data": [
          {
           "coloraxis": "coloraxis",
           "hovertemplate": "minutes=350.0<br>lat=%{lat}<br>lon=%{lon}<extra></extra>",
           "lat": [
            53.52760136763676,
            53.52784843663717,
            53.52910758615455,
            53.52967851024374,
            53.532636462197836,
            53.533067111028124,
            53.52714847883015,
            53.52752094820314,
            53.52756125599251,
            53.5283952008927,
            53.529347956815364,
            53.52976384481008,
            53.53263238154903,
            53.53267003231518,
            53.53322018912456,
            53.53366361566008,
            53.52909536934829,
            53.53067914633007,
            53.534750539484826,
            53.53402590346599
           ],
           "lon": [
            10.039479374387861,
            10.03877033963867,
            10.035375433737531,
            10.03349143771798,
            10.026121072113561,
            10.024854736269079,
            10.040494429538416,
            10.039320510122668,
            10.039233545171614,
            10.037087106365787,
            10.034606594570528,
            10.033394545699409,
            10.026072843184874,
            10.02587534789091,
            10.024404281910227,
            10.021956962697924,
            10.03481376282051,
            10.030348853247373,
            10.020044552138245,
            10.020901203530471
           ],
           "name": "",
           "radius": 10,
           "subplot": "mapbox",
           "type": "densitymapbox"
          }
         ],
         "name": "350.0"
        },
        {
         "data": [
          {
           "coloraxis": "coloraxis",
           "hovertemplate": "minutes=360.0<br>lat=%{lat}<br>lon=%{lon}<extra></extra>",
           "lat": [
            53.527507662115255,
            53.52777264611518,
            53.529236946124236,
            53.52983377775335,
            53.53279512755007,
            53.53328636806314,
            53.52736961718394,
            53.527710051764096,
            53.52774787236117,
            53.52866177725881,
            53.52976974491303,
            53.53021354437646,
            53.53302840149635,
            53.533094090221965,
            53.53404773675426,
            53.53384959658627,
            53.52981258219121,
            53.53150109792586,
            53.535253794620196,
            53.53460155476806
           ],
           "lon": [
            10.039401196957906,
            10.038492408471729,
            10.034865793319879,
            10.032999463466867,
            10.025648582606506,
            10.024339039026213,
            10.039873629599315,
            10.038454519602881,
            10.038343354787925,
            10.035681224658074,
            10.033231902210042,
            10.032012963156928,
            10.024861345538334,
            10.024643551918725,
            10.02087079760137,
            10.022808799265722,
            10.032539401697022,
            10.028114890446979,
            10.017950254337633,
            10.01896289430466
           ],
           "name": "",
           "radius": 10,
           "subplot": "mapbox",
           "type": "densitymapbox"
          }
         ],
         "name": "360.0"
        },
        {
         "data": [
          {
           "coloraxis": "coloraxis",
           "hovertemplate": "minutes=370.0<br>lat=%{lat}<br>lon=%{lon}<extra></extra>",
           "lat": [
            53.52769749334933,
            53.527937052992385,
            53.52965152919711,
            53.53028081437044,
            53.533254623445025,
            53.53394101491386,
            53.527852683677324,
            53.5281345368502,
            53.52816816402005,
            53.5293145113855,
            53.530539192625774,
            53.53101577586728,
            53.53462249913209,
            53.53452428331178,
            53.534048926198665,
            53.534014269116,
            53.53092125892772,
            53.53258444499992,
            53.53585984001551,
            53.53531693822316
           ],
           "lon": [
            10.038554987684353,
            10.037364059852573,
            10.033493043810115,
            10.031613434561937,
            10.024372070154849,
            10.022735259066588,
            10.038177858510911,
            10.036462955048979,
            10.036316835673077,
            10.033380740074582,
            10.03094260420631,
            10.029776164225291,
            10.018931258548239,
            10.020855855834862,
            10.022204636958866,
            10.022368114302022,
            10.029373907956067,
            10.024849418244536,
            10.01528528795824,
            10.016127683714954
           ],
           "name": "",
           "radius": 10,
           "subplot": "mapbox",
           "type": "densitymapbox"
          }
         ],
         "name": "370.0"
        },
        {
         "data": [
          {
           "coloraxis": "coloraxis",
           "hovertemplate": "minutes=380.0<br>lat=%{lat}<br>lon=%{lon}<extra></extra>",
           "lat": [
            53.528116400817375,
            53.528417065012796,
            53.530413861084426,
            53.53108926192412,
            53.53462184209952,
            53.53422227708358,
            53.528560748278665,
            53.52899534654748,
            53.52904612887756,
            53.53039777771607,
            53.53169610661586,
            53.53212940965217,
            53.53533699081469,
            53.535196531467186,
            53.53483815211659,
            53.53482508188585,
            53.53236477602394,
            53.53637847094312,
            53.53590706085398,
            53.533897123870105
           ],
           "lon": [
            10.036584861869622,
            10.035186455569736,
            10.031195587806364,
            10.029384620788612,
            10.020799960715422,
            10.021905233267644,
            10.035098988397067,
            10.033282903252385,
            10.033127540562962,
            10.030141516004848,
            10.027807453142888,
            10.026652875185166,
            10.016095119358566,
            10.018130096805391,
            10.019679249684676,
            10.019841591083308,
            10.025308062696128,
            10.012214675857408,
            10.012897073364693,
            10.020928885887418
           ],
           "name": "",
           "radius": 10,
           "subplot": "mapbox",
           "type": "densitymapbox"
          }
         ],
         "name": "380.0"
        },
        {
         "data": [
          {
           "coloraxis": "coloraxis",
           "hovertemplate": "minutes=390.0<br>lat=%{lat}<br>lon=%{lon}<extra></extra>",
           "lat": [
            53.52896547437052,
            53.52940137653166,
            53.53157160125948,
            53.53218794883902,
            53.53527819718041,
            53.53496943953001,
            53.529841776546014,
            53.53033708469721,
            53.530380405947085,
            53.53181617243684,
            53.53300017496482,
            53.53213218222109,
            53.53592434740531,
            53.5359173861593,
            53.5356489314308,
            53.53564054286981,
            53.536887984693195,
            53.53645963197654,
            53.53494337210218,
            53.53394093487975
           ],
           "lon": [
            10.033411015368756,
            10.031961685780994,
            10.028069676156743,
            10.026116414611614,
            10.018040316189811,
            10.019357393929578,
            10.031031273466883,
            10.029256243716816,
            10.02913161896228,
            10.026178036371398,
            10.023854144270809,
            10.026644040517816,
            10.012872589090588,
            10.014859796547887,
            10.016198402813218,
            10.016339283304992,
            10.008617154534909,
            10.009206165595792,
            10.01714054389952,
            10.020745862312097
           ],
           "name": "",
           "radius": 10,
           "subplot": "mapbox",
           "type": "densitymapbox"
          }
         ],
         "name": "390.0"
        },
        {
         "data": [
          {
           "coloraxis": "coloraxis",
           "hovertemplate": "minutes=400.0<br>lat=%{lat}<br>lon=%{lon}<extra></extra>",
           "lat": [
            53.53029542829596,
            53.53070358396569,
            53.53292942560963,
            53.53314519318895,
            53.5359746674827,
            53.53576307104817,
            53.53143178184294,
            53.5319479941677,
            53.53203329191079,
            53.533140384491155,
            53.53213494572327,
            53.53647596176216,
            53.53648677633464,
            53.5362706530617,
            53.53626410063015,
            53.5334203504576,
            53.537373136601005,
            53.536959373835515,
            53.53579125744295,
            53.5350989860469
           ],
           "lon": [
            10.029396297367958,
            10.028031905041814,
            10.024138203544327,
            10.023504733437987,
            10.014783156093173,
            10.015883513377844,
            10.026452537531519,
            10.02464273936451,
            10.024549293781172,
            10.023436419548633,
            10.02663626176785,
            10.009188446898879,
            10.011313113716454,
            10.012633392791315,
            10.01277024575918,
            10.02128617098275,
            10.004482689682256,
            10.00504946043447,
            10.012878767745933,
            10.01649410043469
           ],
           "name": "",
           "radius": 10,
           "subplot": "mapbox",
           "type": "densitymapbox"
          }
         ],
         "name": "400.0"
        },
        {
         "data": [
          {
           "coloraxis": "coloraxis",
           "hovertemplate": "minutes=410.0<br>lat=%{lat}<br>lon=%{lon}<extra></extra>",
           "lat": [
            53.53193519003704,
            53.53229822824812,
            53.533147575571604,
            53.53314429705277,
            53.536544863545274,
            53.536369377366,
            53.533140385782296,
            53.532136804031296,
            53.536974784001195,
            53.53701063476237,
            53.536834627953034,
            53.53683163040693,
            53.53463163501356,
            53.53355605686328,
            53.53374418482028,
            53.53336026353054,
            53.53783465278372,
            53.5374341874115,
            53.536428002640704,
            53.5359299570616
           ],
           "lon": [
            10.024773239832083,
            10.023422750953085,
            10.023541454825539,
            10.023504410066398,
            10.011247200037468,
            10.012333210716914,
            10.0234362686994,
            10.02662921550598,
            10.0050341324584,
            10.007290090725473,
            10.008655269506164,
            10.008797490629117,
            10.017013420252377,
            10.019393304993393,
            10.019468587542669,
            10.0210593086964,
            10.000684979820674,
            10.000846651524663,
            10.008480227150022,
            10.01199771109995
           ],
           "name": "",
           "radius": 10,
           "subplot": "mapbox",
           "type": "densitymapbox"
          }
         ],
         "name": "410.0"
        },
        {
         "data": [
          {
           "coloraxis": "coloraxis",
           "hovertemplate": "minutes=420.0<br>lat=%{lat}<br>lon=%{lon}<extra></extra>",
           "lat": [
            53.533147576862866,
            53.533144298344,
            53.537063274072366,
            53.53692252203426,
            53.53391322015124,
            53.5336118990431,
            53.53314038707344,
            53.532138662338916,
            53.537450445261406,
            53.53753863842202,
            53.53734629465768,
            53.537342399812694,
            53.535604303706464,
            53.53479550486761,
            53.53498202916091,
            53.5346730389647,
            53.53785074262469,
            53.53753379683618,
            53.536953294242785,
            53.53655488475642
           ],
           "lon": [
            10.02354130397629,
            10.023504259217157,
            10.00723037900293,
            10.00835904198609,
            10.018303304321531,
            10.019591245499408,
            10.02343611785017,
            10.026622169243492,
            10.000837377666572,
            10.002863874558402,
            10.004253750083212,
            10.004396404622533,
            10.012345892463088,
            10.014653866655728,
            10.014706609956368,
            10.01637269548079,
            9.997036976914815,
            9.996777383480984,
            10.003846995737229,
            10.007397572378613
           ],
           "name": "",
           "radius": 10,
           "subplot": "mapbox",
           "type": "densitymapbox"
          }
         ],
         "name": "420.0"
        },
        {
         "data": [
          {
           "coloraxis": "coloraxis",
           "hovertemplate": "minutes=430.0<br>lat=%{lat}<br>lon=%{lon}<extra></extra>",
           "lat": [
            53.533147579445405,
            53.53314430092645,
            53.53759229066551,
            53.53743703365066,
            53.53503268963936,
            53.5348649125154,
            53.53314038836457,
            53.53214141547863,
            53.537545424932134,
            53.53782322585491,
            53.53779033888484,
            53.53779756666761,
            53.53623976740253,
            53.53551251664899,
            53.53575068293348,
            53.53560702601898,
            53.538078487572776,
            53.537832114368726,
            53.53733482443764,
            53.53709435671055
           ],
           "lon": [
            10.023541002277787,
            10.023503957518676,
            10.00279029814708,
            10.00393856449348,
            10.013714834117213,
            10.014843077853262,
            10.02343596700094,
            10.026615597255143,
            9.996784296028162,
            9.999256624016875,
            10.000287227693251,
            10.000390309557783,
            10.00777712774493,
            10.010550995044099,
            10.010236931603245,
            10.01159935874036,
            9.992784603127028,
            9.99225205893665,
            9.99950737865988,
            10.002676225296188
           ],
           "name": "",
           "radius": 10,
           "subplot": "mapbox",
           "type": "densitymapbox"
          }
         ],
         "name": "430.0"
        },
        {
         "data": [
          {
           "coloraxis": "coloraxis",
           "hovertemplate": "minutes=440.0<br>lat=%{lat}<br>lon=%{lon}<extra></extra>",
           "lat": [
            53.53314758202796,
            53.533144302217664,
            53.537870012485826,
            53.537860754630564,
            53.53568419510507,
            53.53562376062057,
            53.53314038965571,
            53.53214326730983,
            53.53783737653189,
            53.53784169513908,
            53.53780480814339,
            53.537827927166155,
            53.5367691657466,
            53.53602344501628,
            53.53628956030424,
            53.536210197429455,
            53.5390248177363,
            53.53885773817827,
            53.53742189877942,
            53.537357986208164
           ],
           "lon": [
            10.023540700579286,
            10.023503806669435,
            9.999251388089396,
            10.000143724812505,
            10.009594673206575,
            10.010470655074075,
            10.023435816151714,
            10.026609305218967,
            9.992267875233072,
            9.995209556068891,
            9.996400773910192,
            9.996538934523866,
            10.003079725108568,
            10.00635241383115,
            10.005706572193946,
            10.007019103296148,
            9.988578653138246,
            9.987912006861722,
            9.995102685185502,
            9.998456487644512
           ],
           "name": "",
           "radius": 10,
           "subplot": "mapbox",
           "type": "densitymapbox"
          }
         ],
         "name": "440.0"
        },
        {
         "data": [
          {
           "coloraxis": "coloraxis",
           "hovertemplate": "minutes=450.0<br>lat=%{lat}<br>lon=%{lon}<extra></extra>",
           "lat": [
            53.53314758331922,
            53.53314430350889,
            53.5378727399459,
            53.53786080819347,
            53.53617331065924,
            53.53614925370975,
            53.53314039094685,
            53.53214511784558,
            53.5388566998508,
            53.538383073474954,
            53.538125964212746,
            53.53812180601014,
            53.53706693795193,
            53.53650296590183,
            53.536777586798685,
            53.53672987566152,
            53.54014565326911,
            53.54013594946076,
            53.537976830169114,
            53.53748735604787
           ],
           "lon": [
            10.023540549730034,
            10.023503655820196,
            9.995259627413112,
            9.996368589754175,
            10.00531361334315,
            10.006143244745353,
            10.023435665302483,
            10.026603164027783,
            9.987928883511364,
            9.99085087171664,
            9.992046315291718,
            9.992222466538388,
            9.998755954457707,
            10.002022469867525,
            10.001216848198833,
            10.002405361625893,
            9.98434019771117,
            9.983334494537718,
            9.990626659245454,
            9.994041463644406
           ],
           "name": "",
           "radius": 10,
           "subplot": "mapbox",
           "type": "densitymapbox"
          }
         ],
         "name": "450.0"
        },
        {
         "data": [
          {
           "coloraxis": "coloraxis",
           "hovertemplate": "minutes=460.0<br>lat=%{lat}<br>lon=%{lon}<extra></extra>",
           "lat": [
            53.533147585901766,
            53.533144306091344,
            53.538394846784946,
            53.53817081793311,
            53.53663051030918,
            53.53663942779236,
            53.53314039223798,
            53.53214696838103,
            53.54013491177676,
            53.539456907859254,
            53.539125117740674,
            53.53908942029495,
            53.53719785522487,
            53.536709898132585,
            53.5369285548523,
            53.53696712640546,
            53.541322455768444,
            53.541458549811885,
            53.53904665985376,
            53.538149521290364
           ],
           "lon": [
            10.023540248031534,
            10.023503354121715,
            9.990948778028779,
            9.992057323160752,
            10.000961085962006,
            10.001721040064579,
            10.023435514453253,
            10.026597022836063,
            9.983351371815552,
            9.98676249974114,
            9.987971650959102,
            9.988157937096677,
            9.994372383819526,
            9.997915679826622,
            9.997026777825592,
            9.998221705277096,
            9.980493214379486,
            9.979132742413368,
            9.986586968562408,
            9.98985447281318
           ],
           "name": "",
           "radius": 10,
           "subplot": "mapbox",
           "type": "densitymapbox"
          }
         ],
         "name": "460.0"
        },
        {
         "data": [
          {
           "coloraxis": "coloraxis",
           "hovertemplate": "minutes=470.0<br>lat=%{lat}<br>lon=%{lon}<extra></extra>",
           "lat": [
            53.5331475884843,
            53.533144307382564,
            53.539454151715546,
            53.53916159784346,
            53.536773078993356,
            53.53682151266186,
            53.533140393529116,
            53.53214881891615,
            53.541455681903265,
            53.54062755319505,
            53.540252628926595,
            53.54019048748437,
            53.537795718340156,
            53.536878195676906,
            53.53717179222391,
            53.5371157105912,
            53.542416213674926,
            53.542602680676616,
            53.54019687987253,
            53.539166243307385
           ],
           "lon": [
            10.023539946333033,
            10.023503203272472,
            9.986878630434097,
            9.988017016218615,
            9.996807046301798,
            9.997574419132238,
            10.023435363604023,
            10.0265908816438,
            9.97915365262901,
            9.98258049005655,
            9.98379323383996,
            9.984025997454339,
            9.990136242808799,
            9.993897878839698,
            9.992857247064846,
            9.994089494150288,
            9.977223461680056,
            9.975523642628737,
            9.982592699902241,
            9.986147457271487
           ],
           "name": "",
           "radius": 10,
           "subplot": "mapbox",
           "type": "densitymapbox"
          }
         ],
         "name": "470.0"
        },
        {
         "data": [
          {
           "coloraxis": "coloraxis",
           "hovertemplate": "minutes=480.0<br>lat=%{lat}<br>lon=%{lon}<extra></extra>",
           "lat": [
            53.533147589775574,
            53.533144309965,
            53.54055946494358,
            53.54021203958487,
            53.537034465528464,
            53.537019350212944,
            53.53314039482026,
            53.532150668155865,
            53.54259981339603,
            53.5417160910851,
            53.541334057460254,
            53.541269341674095,
            53.53881551354324,
            53.537423908161415,
            53.53788078006858,
            53.537662784685,
            53.54328159743206,
            53.54344135352287,
            53.54132669900747,
            53.54023209766371
           ],
           "lon": [
            10.023539795483781,
            10.023502901573991,
            9.982880876610725,
            9.98402860994289,
            9.992724265414584,
            9.993461933123337,
            10.023435212754793,
            10.026584891296567,
            9.975544553659171,
            9.979186826088455,
            9.980284171805893,
            9.980502852401422,
            9.98638466975789,
            9.990204373028389,
            9.98909040045411,
            9.990232279727563,
            9.974390633141008,
            9.972433295467,
            9.978987845371472,
            9.982463737128565
           ],
           "name": "",
           "radius": 10,
           "subplot": "mapbox",
           "type": "densitymapbox"
          }
         ],
         "name": "480.0"
        },
        {
         "data": [
          {
           "coloraxis": "coloraxis",
           "hovertemplate": "minutes=490.0<br>lat=%{lat}<br>lon=%{lon}<extra></extra>",
           "lat": [
            53.53314669363949,
            53.53314431125623,
            53.54163721667206,
            53.54126866371034,
            53.53772807377667,
            53.537634798229625,
            53.5331403961114,
            53.53215251739529,
            53.54344117438447,
            53.54269977869669,
            53.54235172828822,
            53.54229160302587,
            53.539885555059094,
            53.53830618738695,
            53.53886633674596,
            53.53856925590745,
            53.54403426695172,
            53.54413081866011,
            53.54250928667466,
            53.54145618008412
           ],
           "lon": [
            10.023539472111436,
            10.02350275072475,
            9.97948818396192,
            9.980585534697518,
            9.989077485538237,
            9.989703943719803,
            10.023435061905563,
            10.026578900948806,
            9.972455325142834,
            9.97618250078912,
            9.977194661247717,
            9.977402289965926,
            9.982739261471194,
            9.986886940635056,
            9.985671791335093,
            9.986815496694527,
            9.97126081783253,
            9.968888171012582,
            9.975181790000875,
            9.978653550581884
           ],
           "name": "",
           "radius": 10,
           "subplot": "mapbox",
           "type": "densitymapbox"
          }
         ],
         "name": "490.0"
        },
        {
         "data": [
          {
           "coloraxis": "coloraxis",
           "hovertemplate": "minutes=500.0<br>lat=%{lat}<br>lon=%{lon}<extra></extra>",
           "lat": [
            53.533146696222026,
            53.53314431254745,
            53.54262998535589,
            53.54228169199787,
            53.5386859095958,
            53.53856700268425,
            53.53314039740253,
            53.53215436533933,
            53.54413046045956,
            53.54360322867688,
            53.543321926366545,
            53.54327364136341,
            53.54113265288996,
            53.53936841904354,
            53.539979677228835,
            53.539675244028736,
            53.54464080323619,
            53.544608971040844,
            53.54359960992196,
            53.542743707799374
           ],
           "lon": [
            10.023539170412942,
            10.023502599875508,
            9.976473516194972,
            9.97751509492635,
            9.98575029321055,
            9.98632592741144,
            10.023434911056333,
            10.026573061446099,
            9.96893238201699,
            9.972976835495361,
            9.973964165499224,
            9.974153512702436,
            9.978863848815154,
            9.983318669289392,
            9.981895774654234,
            9.983063510139626,
            9.967295381936385,
            9.964224633756341,
            9.970878253419272,
            9.974433363377813
           ],
           "name": "",
           "radius": 10,
           "subplot": "mapbox",
           "type": "densitymapbox"
          }
         ],
         "name": "500.0"
        },
        {
         "data": [
          {
           "coloraxis": "coloraxis",
           "hovertemplate": "minutes=510.0<br>lat=%{lat}<br>lon=%{lon}<extra></extra>",
           "lat": [
            53.53314669751329,
            53.53314431512989,
            53.54354207795613,
            53.54326355145235,
            53.53975757686413,
            53.53964042526603,
            53.53314039869366,
            53.532156214578166,
            53.5446175276745,
            53.54435084296757,
            53.54415124202191,
            53.54411706216964,
            53.54249070957859,
            53.540671722142804,
            53.5414006945048,
            53.541039226994926,
            53.54489336931925,
            53.544408703837206,
            53.54428302248489,
            53.54372854315893
           ],
           "lon": [
            10.023539019563692,
            10.023502298177027,
            9.97331137362626,
            9.974288652415012,
            9.982123478960837,
            9.982706421636685,
            10.023434760207103,
            10.026567071097299,
            9.964278254051047,
            9.969246347524992,
            9.970249623192487,
            9.970473861276753,
            9.97448339055557,
            9.979278017093952,
            9.97763438869441,
            9.97885656259202,
            9.962954453818114,
            9.95905923493806,
            9.9661858158691,
            9.970276327368273
           ],
           "name": "",
           "radius": 10,
           "subplot": "mapbox",
           "type": "densitymapbox"
          }
         ],
         "name": "510.0"
        },
        {
         "data": [
          {
           "coloraxis": "coloraxis",
           "hovertemplate": "minutes=520.0<br>lat=%{lat}<br>lon=%{lon}<extra></extra>",
           "lat": [
            53.53314670009583,
            53.533144316421115,
            53.544311726833556,
            53.54411392743941,
            53.54114797798225,
            53.54101663347601,
            53.5331403999848,
            53.53215806511176,
            53.54441499213261,
            53.54479624216504,
            53.544664077466926,
            53.544649384889716,
            53.54357945808011,
            53.54210963980317,
            53.542744067754306,
            53.54244030198692,
            53.54454337138388,
            53.543637068619034,
            53.544401926508755,
            53.544364282650726
           ],
           "lon": [
            10.023538717865199,
            10.023502147327786,
            9.969636184121187,
            9.970638592770904,
            9.977979578298052,
            9.97854185137964,
            10.023434609357873,
            10.026560929902379,
            9.959171812197708,
            9.964967497626958,
            9.966084171190715,
            9.96634508005047,
            9.969927620222595,
            9.974806492802033,
            9.973064432103879,
            9.974381573963528,
            9.958295152621275,
            9.953824446864699,
            9.960911317604623,
            9.965473515369348
           ],
           "name": "",
           "radius": 10,
           "subplot": "mapbox",
           "type": "densitymapbox"
          }
         ],
         "name": "520.0"
        },
        {
         "data": [
          {
           "coloraxis": "coloraxis",
           "hovertemplate": "minutes=530.0<br>lat=%{lat}<br>lon=%{lon}<extra></extra>",
           "lat": [
            53.53314670267836,
            53.53314431900356,
            53.544767171945004,
            53.544651905476535,
            53.54252922522847,
            53.54240918380653,
            53.53314040127594,
            53.53215991434999,
            53.54365329007715,
            53.54471096454105,
            53.544765375295036,
            53.54478578327044,
            53.54424666379205,
            53.54332154043824,
            53.543752560602265,
            53.54355152041068,
            53.54380841948536,
            53.54284863897148,
            53.54371753690973,
            53.54432189090443
           ],
           "lon": [
            10.023538416166703,
            10.023501845629307,
            9.965450839847177,
            9.966589326903208,
            9.97339649364437,
            9.974008406854391,
            10.023434458508643,
            10.026554939552518,
            9.953931962504688,
            9.960374550120097,
            9.96154572046459,
            9.96180244679791,
            9.964676853391468,
            9.969919460099414,
            9.96820025350609,
            9.969714792680314,
            9.953641463498508,
            9.949317937647592,
            9.955117502360471,
            9.959908155327748
           ],
           "name": "",
           "radius": 10,
           "subplot": "mapbox",
           "type": "densitymapbox"
          }
         ],
         "name": "530.0"
        },
        {
         "data": [
          {
           "coloraxis": "coloraxis",
           "hovertemplate": "minutes=540.0<br>lat=%{lat}<br>lon=%{lon}<extra></extra>",
           "lat": [
            53.533146703969635,
            53.53314432029477,
            53.5447688584954,
            53.54481593594988,
            53.543597635572006,
            53.54351459079061,
            53.53314040256708,
            53.53216085968981,
            53.542864004095804,
            53.54405364270873,
            53.544238022670996,
            53.54425210993713,
            53.544052739069045,
            53.544052543335226,
            53.544193086517396,
            53.544224791399124,
            53.54307294384722,
            53.5423672878455,
            53.54287899139934,
            53.54356333423545
           ],
           "lon": [
            10.023538265317455,
            10.023501694780066,
            9.960888689852776,
            9.962076901210777,
            9.968461124224808,
            9.969169592650355,
            10.023434307659413,
            10.02654953084776,
            9.949420601111655,
            9.955352804736883,
            9.956464098012903,
            9.956613372653017,
            9.95872309161999,
            9.964225871919494,
            9.962401287720397,
            9.96415659102277,
            9.949483982541322,
            9.944947314993883,
            9.95036294181539,
            9.954278255190356
           ],
           "name": "",
           "radius": 10,
           "subplot": "mapbox",
           "type": "densitymapbox"
          }
         ],
         "name": "540.0"
        },
        {
         "data": [
          {
           "coloraxis": "coloraxis",
           "hovertemplate": "minutes=550.0<br>lat=%{lat}<br>lon=%{lon}<extra></extra>",
           "lat": [
            53.53314670655216,
            53.53314432287722,
            53.544158915099445,
            53.54435349028392,
            53.54407749611325,
            53.54413124355965,
            53.53313950513955,
            53.53216270374728,
            53.54237273245594,
            53.54327875576637,
            53.543457185635646,
            53.5434760089232,
            53.54322711026443,
            53.543784524564984,
            53.54367173020311,
            53.54395081588047,
            53.54260513147037,
            53.54221425473256,
            53.54232485806506,
            53.54278197616302
           ],
           "lon": [
            10.02353796361896,
            10.023501393081583,
            9.95590255725655,
            9.95708713069022,
            9.962579013134015,
            9.963383572552656,
            10.023434135138572,
            10.02654414387944,
            9.94505458388747,
            9.950959108624165,
            9.951919614249679,
            9.952039260364934,
            9.953268464097533,
            9.958205118914762,
            9.956462499118805,
            9.958205705428384,
            9.94533457300377,
            9.940642625221704,
            9.945993548334016,
            9.949788956763651
           ],
           "name": "",
           "radius": 10,
           "subplot": "mapbox",
           "type": "densitymapbox"
          }
         ],
         "name": "550.0"
        },
        {
         "data": [
          {
           "coloraxis": "coloraxis",
           "hovertemplate": "minutes=560.0<br>lat=%{lat}<br>lon=%{lon}<extra></extra>",
           "lat": [
            53.53314670913469,
            53.53314432416844,
            53.54341709344885,
            53.54361207327344,
            53.543574370696696,
            53.54373625301143,
            53.53313950643069,
            53.532164549099576,
            53.542215255802546,
            53.542702395595015,
            53.542816786853905,
            53.54282556433305,
            53.54246834644291,
            53.54297202717607,
            53.542827133810846,
            53.54313820439315,
            53.54242001246821,
            53.54224108165616,
            53.54209360381228,
            53.542285882309265
           ],
           "lon": [
            10.023537661920466,
            10.023501242232342,
            9.951648726047889,
            9.95267495628882,
            9.9566097116364,
            9.957385906685115,
            10.023433984289346,
            10.026538606065033,
            9.940743909061206,
            9.94678852653685,
            9.947780620810144,
            9.947920713987498,
            9.948759050549574,
            9.953017345962822,
            9.951571354728944,
            9.953032246450075,
            9.941339421544894,
            9.936307831329476,
            9.941809964271078,
            9.945579784468304
           ],
           "name": "",
           "radius": 10,
           "subplot": "mapbox",
           "type": "densitymapbox"
          }
         ],
         "name": "560.0"
        },
        {
         "data": [
          {
           "coloraxis": "coloraxis",
           "hovertemplate": "minutes=570.0<br>lat=%{lat}<br>lon=%{lon}<extra></extra>",
           "lat": [
            53.53314671042597,
            53.53314432545966,
            53.54278920182704,
            53.54293548318138,
            53.542726211747336,
            53.54290373271715,
            53.533139507721835,
            53.53216639704167,
            53.54224020384834,
            53.54243661240235,
            53.54247744291361,
            53.542476281836606,
            53.542037918191504,
            53.54223462203891,
            53.54217677569506,
            53.54240501849213,
            53.54242426633086,
            53.54225179889945,
            53.54209450825508,
            53.54208226136425
           ],
           "lon": [
            10.023537511071218,
            10.023501091383102,
            9.947518320280322,
            9.948568931699004,
            9.951715175492323,
            9.95233760373087,
            10.02343383344012,
            10.026532766558896,
            9.936419939259974,
            9.942769533429543,
            9.943746995548281,
            9.94389410942058,
            9.94453946171779,
            9.948760464220804,
            9.9473264169072,
            9.948696816764791,
            9.93736478856022,
            9.931713111777098,
            9.937691318554394,
            9.941538072547113
           ],
           "name": "",
           "radius": 10,
           "subplot": "mapbox",
           "type": "densitymapbox"
          }
         ],
         "name": "570.0"
        },
        {
         "data": [
          {
           "coloraxis": "coloraxis",
           "hovertemplate": "minutes=580.0<br>lat=%{lat}<br>lon=%{lon}<extra></extra>",
           "lat": [
            53.53314671300849,
            53.5331443280421,
            53.54247212820709,
            53.5425412463327,
            53.54206811886379,
            53.54219775671894,
            53.533139509012976,
            53.53216824368845,
            53.54224460598872,
            53.542391955409016,
            53.54238578706999,
            53.54237917903252,
            53.54189742292196,
            53.541823740777154,
            53.541864422324785,
            53.541993919440905,
            53.542389906492495,
            53.54246085077828,
            53.54210387156082,
            53.54209261440847
           ],
           "lon": [
            10.023537209372721,
            10.023500789684618,
            9.943509190151559,
            9.944546290460089,
            9.947539491915318,
            9.948081745040469,
            10.023433682590893,
            10.026527077897878,
            9.931828702970364,
            9.938848144689635,
            9.9398622886426,
            9.940016827181697,
            9.940467486871011,
            9.944797428411833,
            9.943287872729742,
            9.944647288913963,
            9.933137887113595,
            9.926673158003993,
            9.93327692362662,
            9.937474266584
           ],
           "name": "",
           "radius": 10,
           "subplot": "mapbox",
           "type": "densitymapbox"
          }
         ],
         "name": "580.0"
        },
        {
         "data": [
          {
           "coloraxis": "coloraxis",
           "hovertemplate": "minutes=590.0<br>lat=%{lat}<br>lon=%{lon}<extra></extra>",
           "lat": [
            53.53314671559102,
            53.53314432933332,
            53.54239305529001,
            53.54240892040352,
            53.54174721018824,
            53.54183386845381,
            53.5331395103041,
            53.53217009163,
            53.54244535303339,
            53.542362295121215,
            53.54237039310915,
            53.54236557590621,
            53.54193565867068,
            53.54167671747421,
            53.54180333773517,
            53.54185634393477,
            53.54244870707645,
            53.54278387981917,
            53.542222158324776,
            53.54209102822495
           ],
           "lon": [
            10.023536907674226,
            10.02350063883538,
            9.9396237066046,
            9.940692818339457,
            9.943560828349803,
            9.94408415034537,
            10.023433531741665,
            10.026521238390728,
            9.926817091566932,
            9.934716724638527,
            9.935865041743192,
            9.93602112942551,
            9.9362820765885,
            9.940870805332873,
            9.93928573740408,
            9.940661703296213,
            9.928470559002061,
            9.921629294183814,
            9.928474052409827,
            9.933079702255188
           ],
           "name": "",
           "radius": 10,
           "subplot": "mapbox",
           "type": "densitymapbox"
          }
         ],
         "name": "590.0"
        },
        {
         "data": [
          {
           "coloraxis": "coloraxis",
           "hovertemplate": "minutes=600.0<br>lat=%{lat}<br>lon=%{lon}<extra></extra>",
           "lat": [
            53.533146716882285,
            53.53314433191576,
            53.54236982793824,
            53.54240932024588,
            53.5416776417748,
            53.54172666637972,
            53.53313951159523,
            53.532171939571235,
            53.54277636517961,
            53.54236585146187,
            53.54235316019822,
            53.54234937437404,
            53.54195729664337,
            53.54172665727461,
            53.54184299477028,
            53.541893294247835,
            53.54289020089466,
            53.542860027103934,
            53.54263812802709,
            53.54222641714182
           ],
           "lon": [
            10.023536756824978,
            10.023500337136896,
            9.93559263306186,
            9.936748434805102,
            9.939609975910477,
            9.940120231229812,
            10.023433380892438,
            10.026515398883067,
            9.921787891740447,
            9.930225813513331,
            9.931509795615074,
            9.931649607833693,
            9.931785419936125,
            9.936799612293502,
            9.935028232024864,
            9.936526521945991,
            9.92381019418673,
            9.916516638449254,
            9.923277718001886,
            9.928272829762099
           ],
           "name": "",
           "radius": 10,
           "subplot": "mapbox",
           "type": "densitymapbox"
          }
         ],
         "name": "600.0"
        },
        {
         "data": [
          {
           "coloraxis": "coloraxis",
           "hovertemplate": "minutes=610.0<br>lat=%{lat}<br>lon=%{lon}<extra></extra>",
           "lat": [
            53.53314671946481,
            53.53314433320698,
            53.54236107208754,
            53.54237800074888,
            53.54173119801431,
            53.541777279789294,
            53.533139512886365,
            53.532173788807185,
            53.542850693990225,
            53.54272468554997,
            53.542568683579205,
            53.54253970468204,
            53.54221352760328,
            53.5417467429929,
            53.54189579320002,
            53.54190653284713,
            53.54298143545126,
            53.54271408643364,
            53.54270354479212,
            53.542637999262475
           ],
           "lon": [
            10.023536455126482,
            10.023500186287656,
            9.93118641411231,
            9.932474668749862,
            9.935415719108251,
            9.935959708955004,
            10.023433230043212,
            10.026509408529241,
            9.916678819764154,
            9.925337000569609,
            9.9266776259727,
            9.926821265408533,
            9.926805538313298,
            9.93238926414326,
            9.93044866412748,
            9.932070732919817,
            9.918968896866552,
            9.911737089855194,
            9.917932745690965,
            9.923177961820606
           ],
           "name": "",
           "radius": 10,
           "subplot": "mapbox",
           "type": "densitymapbox"
          }
         ],
         "name": "610.0"
        },
        {
         "data": [
          {
           "coloraxis": "coloraxis",
           "hovertemplate": "minutes=620.0<br>lat=%{lat}<br>lon=%{lon}<extra></extra>",
           "lat": [
            53.53314672204735,
            53.53314433578941,
            53.54261187884193,
            53.54248312171349,
            53.54178240660587,
            53.54180682030916,
            53.53313951417751,
            53.532175640632836,
            53.54271301880421,
            53.54292225145588,
            53.54290072206184,
            53.542886704529444,
            53.54253638093909,
            53.54198834176013,
            53.54227711132385,
            53.542146066033645,
            53.54302043007216,
            53.54268368974672,
            53.542659671859745,
            53.542698353800496
           ],
           "lon": [
            10.023536153427987,
            10.023499884589175,
            9.926323320739138,
            9.927742556434303,
            9.930926825570488,
            9.93148557720935,
            10.023433079193985,
            10.02650311648358,
            9.911877114133587,
            9.920703274529224,
            9.922097552108905,
            9.92216681867333,
            9.921318622071189,
            9.927560755909242,
            9.925327239202042,
            9.92715915856236,
            9.914233151350226,
            9.907105374950682,
            9.913213809308326,
            9.918023482995117
           ],
           "name": "",
           "radius": 10,
           "subplot": "mapbox",
           "type": "densitymapbox"
          }
         ],
         "name": "620.0"
        },
        {
         "data": [
          {
           "coloraxis": "coloraxis",
           "hovertemplate": "minutes=630.0<br>lat=%{lat}<br>lon=%{lon}<extra></extra>",
           "lat": [
            53.53314672462988,
            53.533144337080635,
            53.542910825856765,
            53.54290052683981,
            53.54213727506615,
            53.54211439684175,
            53.53313951546863,
            53.53217749245817,
            53.542674207980845,
            53.54298442013936,
            53.54296555055085,
            53.542954163740255,
            53.54258418549937,
            53.54236683750324,
            53.54248403234587,
            53.54249558670707,
            53.54276328884493,
            53.54284593170213,
            53.54255338358413,
            53.54267018382269
           ],
           "lon": [
            10.023535851729493,
            10.023499733739934,
            9.921719732676564,
            9.923171450142101,
            9.925857358329722,
            9.926490081655233,
            10.023432928344757,
            10.026496824437364,
            9.907288833058521,
            9.915884883250655,
            9.917291295385846,
            9.917369524416825,
            9.916031834255536,
            9.922323031599031,
            9.919945089345578,
            9.921946436876885,
            9.90288241688809,
            9.910123338605533,
            9.908521919546109,
            9.913720498996536
           ],
           "name": "",
           "radius": 10,
           "subplot": "mapbox",
           "type": "densitymapbox"
          }
         ],
         "name": "630.0"
        },
        {
         "data": [
          {
           "coloraxis": "coloraxis",
           "hovertemplate": "minutes=640.0<br>lat=%{lat}<br>lon=%{lon}<extra></extra>",
           "lat": [
            53.53314672592115,
            53.53314433966307,
            53.542976727644124,
            53.54297000064768,
            53.54239461112185,
            53.54241794984977,
            53.53313951675977,
            53.53217934557812,
            53.54274860192569,
            53.54286644216962,
            53.542936186170124,
            53.54291957315296,
            53.54241868857277,
            53.542408664011624,
            53.5424931126077,
            53.54254144189203,
            53.54284744978459,
            53.542873613182536,
            53.54263033463438,
            53.542541734997094
           ],
           "lon": [
            10.023535700880245,
            10.02349943204145,
            9.9168887476877,
            9.918468218522348,
            9.920468323973346,
            9.921172985764468,
            10.023432777495529,
            10.026490381544928,
            9.903160840604029,
            9.911914819875717,
            9.913258998616904,
            9.913315686399072,
            9.911220961646979,
            9.917235491064604,
            9.915012266888855,
            9.91703478070259,
            9.89815201972093,
            9.906004296260445,
            9.903942464706379,
            9.908871937574355
           ],
           "name": "",
           "radius": 10,
           "subplot": "mapbox",
           "type": "densitymapbox"
          }
         ],
         "name": "640.0"
        },
        {
         "data": [
          {
           "coloraxis": "coloraxis",
           "hovertemplate": "minutes=650.0<br>lat=%{lat}<br>lon=%{lon}<extra></extra>",
           "lat": [
            53.53314672850367,
            53.53314434095429,
            53.542916339644606,
            53.542998307468054,
            53.54240048629132,
            53.5424453024511,
            53.53313951805091,
            53.53218120128767,
            53.54282346668966,
            53.542820619131724,
            53.54280776082734,
            53.5427921908343,
            53.54243488457198,
            53.54228916137936,
            53.54233781529171,
            53.54241769257869,
            53.542999873288885,
            53.54270202617826,
            53.54290088112731,
            53.54261404880451
           ],
           "lon": [
            10.02353539918175,
            10.02349928119221,
            9.912915091851863,
            9.914187400447444,
            9.91536989231362,
            9.916091011504582,
            10.023432626646303,
            10.026483636960569,
            9.898472806186406,
            9.907540065407105,
            9.908878089033262,
            9.9089160874479,
            9.906013338952272,
            9.9119398383508,
            9.909800655685983,
            9.912059104953977,
            9.893163018640543,
            9.899082789375363,
            9.90168286611946,
            9.903956454418928
           ],
           "name": "",
           "radius": 10,
           "subplot": "mapbox",
           "type": "densitymapbox"
          }
         ],
         "name": "650.0"
        },
        {
         "data": [
          {
           "coloraxis": "coloraxis",
           "hovertemplate": "minutes=660.0<br>lat=%{lat}<br>lon=%{lon}<extra></extra>",
           "lat": [
            53.53314673108619,
            53.53314434353672,
            53.54280423504668,
            53.54283533328844,
            53.542244527745964,
            53.542289730308454,
            53.53313951934205,
            53.53218305829179,
            53.54296904949225,
            53.54249631342518,
            53.54287485031215,
            53.54286489514747,
            53.54284943152837,
            53.54228195467095,
            53.542398143173266,
            53.542402952562334,
            53.54315658758537,
            53.54284399221075,
            53.543007814354326,
            53.54267425593272
           ],
           "lon": [
            10.023535097483254,
            10.023498979493729,
            9.908514010769972,
            9.909862332959374,
            9.910010987452585,
            9.910803638328986,
            10.023432475797076,
            10.026476741529933,
            9.893438692625956,
            9.900975998147505,
            9.90322645896603,
            9.904543570075205,
            9.904567688357991,
            9.906266169859094,
            9.904335773896813,
            9.906549903022698,
            9.888536418632151,
            9.894054954208858,
            9.897265626557292,
            9.89918965071494
           ],
           "name": "",
           "radius": 10,
           "subplot": "mapbox",
           "type": "densitymapbox"
          }
         ],
         "name": "660.0"
        },
        {
         "data": [
          {
           "coloraxis": "coloraxis",
           "hovertemplate": "minutes=670.0<br>lat=%{lat}<br>lon=%{lon}<extra></extra>",
           "lat": [
            53.533146733668715,
            53.53314434482794,
            53.54286611116226,
            53.54287800334769,
            53.54230472992522,
            53.54233212577728,
            53.53313952063318,
            53.53218491141069,
            53.54312324415337,
            53.542616620397744,
            53.54292761440581,
            53.542887319782764,
            53.54287594154631,
            53.54245527204069,
            53.54234373127772,
            53.542471346020534,
            53.543311229042004,
            53.54298793732063,
            53.543164697366045,
            53.542796289190434
           ],
           "lon": [
            10.023534795784757,
            10.023498828644486,
            9.904145033692918,
            9.90554334936846,
            9.904445155470329,
            9.905220066441732,
            10.023432324947848,
            10.026470298635761,
            9.888789708818871,
            9.895850246131598,
            9.898728546459777,
            9.900142053508825,
            9.900101216406426,
            9.899382704307945,
            9.901064814049144,
            9.901545613360513,
            9.884409119859779,
            9.889457836464342,
            9.89275811427968,
            9.894423836841801
           ],
           "name": "",
           "radius": 10,
           "subplot": "mapbox",
           "type": "densitymapbox"
          }
         ],
         "name": "670.0"
        },
        {
         "data": [
          {
           "coloraxis": "coloraxis",
           "hovertemplate": "minutes=680.0<br>lat=%{lat}<br>lon=%{lon}<extra></extra>",
           "lat": [
            53.53314673495998,
            53.53314434741037,
            53.54289465344254,
            53.54236216516807,
            53.54289708893248,
            53.5423886068244,
            53.533139521924305,
            53.532187667131986,
            53.543265406666514,
            53.542753782548075,
            53.54309965355576,
            53.54303077928961,
            53.54301429862656,
            53.542577563217776,
            53.542447983172586,
            53.542566030427146,
            53.54349592109149,
            53.54312267426973,
            53.54332988424579,
            53.542925763372466
           ],
           "lon": [
            10.02353464493551,
            10.023498526946003,
            9.899764774548768,
            9.899332438960561,
            9.901351228605261,
            9.90011909822696,
            10.023432174098621,
            10.026463424938923,
            9.884649326186421,
            9.890845702192506,
            9.894365339088337,
            9.895761047925646,
            9.895681168384515,
            9.894222889036362,
            9.89604287080506,
            9.896723412561835,
            9.880820278194088,
            9.885473661103235,
            9.888561930589894,
            9.889961338503884
           ],
           "name": "",
           "radius": 10,
           "subplot": "mapbox",
           "type": "densitymapbox"
          }
         ],
         "name": "680.0"
        },
        {
         "data": [
          {
           "coloraxis": "coloraxis",
           "hovertemplate": "minutes=690.0<br>lat=%{lat}<br>lon=%{lon}<extra></extra>",
           "lat": [
            53.5331467375425,
            53.53314434870159,
            53.543044407338066,
            53.54249738332787,
            53.543014572056165,
            53.542509661723386,
            53.53313952321544,
            53.53218952931469,
            53.54346523298177,
            53.54290658699594,
            53.54323898572077,
            53.54317309198513,
            53.543154844718195,
            53.54271590814067,
            53.54258467708723,
            53.542687869462185,
            53.543710156127545,
            53.54331176247849,
            53.543436037839264,
            53.54304820006392
           ],
           "lon": [
            10.023534343237014,
            10.023498376096764,
            9.89538163619259,
            9.894006300505483,
            9.89708376737042,
            9.89500861503443,
            10.023432023249395,
            10.026455926123507,
            9.880959388606948,
            9.886370707534494,
            9.89014810070832,
            9.891512342037926,
            9.891427899359586,
            9.889050102231728,
            9.890740285785366,
            9.891608841538773,
            9.877600705146419,
            9.882024376294344,
            9.88515663898179,
            9.886305000240524
           ],
           "name": "",
           "radius": 10,
           "subplot": "mapbox",
           "type": "densitymapbox"
          }
         ],
         "name": "690.0"
        },
        {
         "data": [
          {
           "coloraxis": "coloraxis",
           "hovertemplate": "minutes=700.0<br>lat=%{lat}<br>lon=%{lon}<extra></extra>",
           "lat": [
            53.53314674012503,
            53.53314435128402,
            53.54318213522201,
            53.54264358223903,
            53.54315876752573,
            53.54264666634641,
            53.53313952579771,
            53.532192290214866,
            53.54368041259161,
            53.54311878471903,
            53.54337208064234,
            53.54332198306975,
            53.54330082976379,
            53.54288344427242,
            53.54273572063591,
            53.542817811674304,
            53.54395228235566,
            53.543488497163864,
            53.54360739731232,
            53.54320900280138
           ],
           "lon": [
            10.02353404153852,
            10.023498074398283,
            9.891143244589376,
            9.88862210816985,
            9.892829975628162,
            9.88977891664129,
            10.023431721550942,
            10.026448449042107,
            9.87773410328825,
            9.882107743690199,
            9.8866311022664,
            9.887931393850954,
            9.887874810856195,
            9.884640305566801,
            9.885895837487597,
            9.887069089325932,
            9.874734518973678,
            9.879019402381514,
            9.882525375200462,
            9.88328101673044
           ],
           "name": "",
           "radius": 10,
           "subplot": "mapbox",
           "type": "densitymapbox"
          }
         ],
         "name": "700.0"
        },
        {
         "data": [
          {
           "coloraxis": "coloraxis",
           "hovertemplate": "minutes=710.0<br>lat=%{lat}<br>lon=%{lon}<extra></extra>",
           "lat": [
            53.53314674270755,
            53.533144352575235,
            53.5433308271194,
            53.54283110111476,
            53.54329205567866,
            53.5428096324764,
            53.53313952708883,
            53.53219415628137,
            53.54392256518834,
            53.543346367415914,
            53.54351610538119,
            53.54340067067803,
            53.54338215420889,
            53.5430796366902,
            53.54293935519114,
            53.542990484160065,
            53.5440726176852,
            53.54360660618838,
            53.54365181815551,
            53.54327545830994
           ],
           "lon": [
            10.023533739840024,
            10.02349792354904,
            9.887587643978106,
            9.883938977676495,
            9.889176719538703,
            9.885140099444653,
            10.023431570701714,
            10.026440497688029,
            9.874864751145282,
            9.878422004251675,
            9.883810785128006,
            9.885077123442418,
            9.885028444362892,
            9.880833518349565,
            9.881816674076195,
            9.883292917056187,
            9.87327446014118,
            9.877257342760602,
            9.881011556019205,
            9.881462068366984
           ],
           "name": "",
           "radius": 10,
           "subplot": "mapbox",
           "type": "densitymapbox"
          }
         ],
         "name": "710.0"
        },
        {
         "data": [
          {
           "coloraxis": "coloraxis",
           "hovertemplate": "minutes=720.0<br>lat=%{lat}<br>lon=%{lon}<extra></extra>",
           "lat": [
            53.53314674529008,
            53.53314435515767,
            53.54341930685812,
            53.54305478795462,
            53.54338568198443,
            53.54301331290821,
            53.53313952837997,
            53.5321969197704,
            53.5440479038992,
            53.54351907501617,
            53.54357148147599,
            53.54351207635915,
            53.543492623708964,
            53.5432478723392,
            53.543104732210274,
            53.54310375857512,
            53.54392856509602,
            53.54350561987952,
            53.543577149746625,
            53.543223507519976
           ],
           "lon": [
            10.023533438141529,
            10.023497621850558,
            9.88474519707721,
            9.879813127079093,
            9.886251382436908,
            9.881173206255205,
            10.023431419852487,
            10.026432718913329,
            9.873335223844023,
            9.876077336369875,
            9.882398160790231,
            9.883504493738245,
            9.883460775936262,
            9.878247469765421,
            9.87901099869499,
            9.880853637959476,
            9.874536027093892,
            9.878156973954873,
            9.882239062647177,
            9.882290263713703
           ],
           "name": "",
           "radius": 10,
           "subplot": "mapbox",
           "type": "densitymapbox"
          }
         ],
         "name": "720.0"
        },
        {
         "data": [
          {
           "coloraxis": "coloraxis",
           "hovertemplate": "minutes=730.0<br>lat=%{lat}<br>lon=%{lon}<extra></extra>",
           "lat": [
            53.53314674658134,
            53.53314435774009,
            53.54352686243232,
            53.54324457825246,
            53.543455505727366,
            53.543185263073305,
            53.533139529671104,
            53.53219878713075,
            53.54389522884194,
            53.54341646575739,
            53.54345904543513,
            53.5433750958799,
            53.54335581553284,
            53.54320822945298,
            53.54308962417663,
            53.54308239534924,
            53.54362057056159,
            53.54325175913836,
            53.54327452510819,
            53.54294889729015
           ],
           "lon": [
            10.02353328729228,
            10.023497320152075,
            9.883206441694849,
            9.87710407383328,
            9.88459081105489,
            9.878449606130074,
            10.02343126900326,
            10.02642461671194,
            9.874669504885775,
            9.87658651769668,
            9.883503993071608,
            9.884646029475444,
            9.884579073984234,
            9.878504712627064,
            9.87898744494644,
            9.88106915221182,
            9.878049184717808,
            9.88175042635783,
            9.886210124521,
            9.885998382413547
           ],
           "name": "",
           "radius": 10,
           "subplot": "mapbox",
           "type": "densitymapbox"
          }
         ],
         "name": "730.0"
        },
        {
         "data": [
          {
           "coloraxis": "coloraxis",
           "hovertemplate": "minutes=740.0<br>lat=%{lat}<br>lon=%{lon}<extra></extra>",
           "lat": [
            53.53314674916386,
            53.53314435903131,
            53.54338835954263,
            53.54318404181221,
            53.54335524084139,
            53.543155511945564,
            53.533139532253365,
            53.532202463580404,
            53.543586229703024,
            53.54317447585705,
            53.54318048282378,
            53.54315753187049,
            53.54313823246897,
            53.5430066930421,
            53.5429028494131,
            53.542884718381,
            53.54335057984062,
            53.54294559696844,
            53.543073486632906,
            53.54273640726539
           ],
           "lon": [
            10.023532985593784,
            10.023497169302836,
            9.884311123765992,
            9.877146436562452,
            9.88574970900231,
            9.878583907366881,
            10.023430967304806,
            10.02641520036605,
            9.878196522265462,
            9.879672542373369,
            9.887497421169925,
            9.888651284154651,
            9.888587194136878,
            9.881583553843038,
            9.882013158980563,
            9.884346504066515,
            9.882732973998278,
            9.886564993580315,
            9.891248111463335,
            9.890885480168665
           ],
           "name": "",
           "radius": 10,
           "subplot": "mapbox",
           "type": "densitymapbox"
          }
         ],
         "name": "740.0"
        },
        {
         "data": [
          {
           "coloraxis": "coloraxis",
           "hovertemplate": "minutes=750.0<br>lat=%{lat}<br>lon=%{lon}<extra></extra>",
           "lat": [
            53.53314675174638,
            53.53314436161374,
            53.54315075284801,
            53.542982734990794,
            53.54317621326843,
            53.542959687521794,
            53.53292331850757,
            53.53214318189246,
            53.54331998085729,
            53.542890225830654,
            53.542993776823465,
            53.54297624312372,
            53.542959100099274,
            53.54270764534302,
            53.54261749663288,
            53.54262500641952,
            53.54303464789312,
            53.542746361201345,
            53.54291646049987,
            53.54257391413427
           ],
           "lon": [
            10.023532683895287,
            10.023496867604353,
            9.88835384113673,
            9.879954548038791,
            9.889765574090559,
            9.88161924910842,
            10.024011619072153,
            10.026514552483508,
            9.882859709417206,
            9.884331074796842,
            9.892414358244139,
            9.89355866956142,
            9.893446934273381,
            9.886288076832543,
            9.886686865872953,
            9.889186282262335,
            9.887405180532198,
            9.891238523351612,
            9.895782327758942,
            9.895671418848696
           ],
           "name": "",
           "radius": 10,
           "subplot": "mapbox",
           "type": "densitymapbox"
          }
         ],
         "name": "750.0"
        },
        {
         "data": [
          {
           "coloraxis": "coloraxis",
           "hovertemplate": "minutes=760.0<br>lat=%{lat}<br>lon=%{lon}<extra></extra>",
           "lat": [
            53.532930538800855,
            53.53292814884132,
            53.542966938965534,
            53.54271255582861,
            53.54299815095223,
            53.54266977134808,
            53.53185384555515,
            53.53110541244397,
            53.543005609668725,
            53.542618877883356,
            53.54285196581802,
            53.54284712646433,
            53.542832107908175,
            53.54249335535521,
            53.54241214263917,
            53.54244579090792,
            53.54288145534338,
            53.54260623942787,
            53.542833242769824,
            53.54248885698586
           ],
           "lon": [
            10.024113184387762,
            10.024077368249054,
            9.89323989492883,
            9.884532160019777,
            9.894716186702453,
            9.88630433878521,
            10.027234323679048,
            10.029805646998694,
            9.88756318347198,
            9.889285152321644,
            9.896831624179562,
            9.897955674721528,
            9.897800972651686,
            9.891294478995341,
            9.891698121610608,
            9.89417408369133,
            9.891324212552398,
            9.89531594804249,
            9.899205244168476,
            9.899578394545172
           ],
           "name": "",
           "radius": 10,
           "subplot": "mapbox",
           "type": "densitymapbox"
          }
         ],
         "name": "760.0"
        },
        {
         "data": [
          {
           "coloraxis": "coloraxis",
           "hovertemplate": "minutes=770.0<br>lat=%{lat}<br>lon=%{lon}<extra></extra>",
           "lat": [
            53.531808609589696,
            53.53180622060249,
            53.54283335839655,
            53.54244729786125,
            53.54287885724552,
            53.54245453920989,
            53.530468771611346,
            53.5298925879414,
            53.54284962796148,
            53.54245330871791,
            53.542770815450574,
            53.54277441516004,
            53.54275837937236,
            53.54233829813931,
            53.54226068220092,
            53.54233016509717,
            53.54276823266786,
            53.54253683389791,
            53.54278287497574,
            53.542447336802994
           ],
           "lon": [
            10.027372788872098,
            10.027336973510383,
            9.897634390929287,
            9.889512300095122,
            9.898996592219856,
            9.891316451260774,
            10.031499267261388,
            10.033683425849535,
            9.891493924913298,
            9.893769647559,
            9.900214736446296,
            9.901288257255203,
            9.901149831226729,
            9.895805585281407,
            9.896207030241273,
            9.898447419668503,
            9.894449353317947,
            9.898696877388367,
            9.901954567290852,
            9.902583527905964
           ],
           "name": "",
           "radius": 10,
           "subplot": "mapbox",
           "type": "densitymapbox"
          }
         ],
         "name": "770.0"
        },
        {
         "data": [
          {
           "coloraxis": "coloraxis",
           "hovertemplate": "minutes=780.0<br>lat=%{lat}<br>lon=%{lon}<extra></extra>",
           "lat": [
            53.530439891141974,
            53.53043750342117,
            53.542759692500965,
            53.542280251842364,
            53.54281270418033,
            53.54229850217907,
            53.52942240241018,
            53.52900871224898,
            53.54273393621866,
            53.54234230369288,
            53.54273250792068,
            53.5422462434431,
            53.54216511681593,
            53.54226773950817,
            53.542744564475655,
            53.54272767548417
           ],
           "lon": [
            10.031616848187475,
            10.031581033759782,
            9.900975554615579,
            9.894072955434668,
            9.902290077787505,
            9.895838247362244,
            10.035040945659363,
            10.037034356815777,
            9.894708200338913,
            9.897549149839406,
            9.903030411076637,
            9.89944723979267,
            9.89983577545879,
            9.90172539872353,
            9.904170966054238,
            9.904026937044113
           ],
           "name": "",
           "radius": 10,
           "subplot": "mapbox",
           "type": "densitymapbox"
          }
         ],
         "name": "780.0"
        },
        {
         "data": [
          {
           "coloraxis": "coloraxis",
           "hovertemplate": "minutes=790.0<br>lat=%{lat}<br>lon=%{lon}<extra></extra>",
           "lat": [
            53.52940358847795,
            53.52940120180806,
            53.54216138341002,
            53.54220184039602,
            53.542793096931966,
            53.542726428846706
           ],
           "lon": [
            10.035137494534714,
            10.035101680798231,
            9.8979407089417,
            9.899494740915161,
            9.905241370914919,
            9.903835100179355
           ],
           "name": "",
           "radius": 10,
           "subplot": "mapbox",
           "type": "densitymapbox"
          }
         ],
         "name": "790.0"
        }
       ],
       "layout": {
        "coloraxis": {
         "colorscale": [
          [
           0,
           "#0d0887"
          ],
          [
           0.1111111111111111,
           "#46039f"
          ],
          [
           0.2222222222222222,
           "#7201a8"
          ],
          [
           0.3333333333333333,
           "#9c179e"
          ],
          [
           0.4444444444444444,
           "#bd3786"
          ],
          [
           0.5555555555555556,
           "#d8576b"
          ],
          [
           0.6666666666666666,
           "#ed7953"
          ],
          [
           0.7777777777777778,
           "#fb9f3a"
          ],
          [
           0.8888888888888888,
           "#fdca26"
          ],
          [
           1,
           "#f0f921"
          ]
         ]
        },
        "legend": {
         "tracegroupgap": 0
        },
        "mapbox": {
         "center": {
          "lat": 53.538682861676186,
          "lon": 9.971399719000567
         },
         "domain": {
          "x": [
           0,
           1
          ],
          "y": [
           0,
           1
          ]
         },
         "style": "stamen-terrain",
         "zoom": 12
        },
        "margin": {
         "b": 0,
         "l": 0,
         "r": 0,
         "t": 0
        },
        "sliders": [
         {
          "active": 0,
          "currentvalue": {
           "prefix": "minutes="
          },
          "len": 0.9,
          "pad": {
           "b": 10,
           "t": 60
          },
          "steps": [
           {
            "args": [
             [
              "10.0"
             ],
             {
              "frame": {
               "duration": 0,
               "redraw": true
              },
              "fromcurrent": true,
              "mode": "immediate",
              "transition": {
               "duration": 0,
               "easing": "linear"
              }
             }
            ],
            "label": "10.0",
            "method": "animate"
           },
           {
            "args": [
             [
              "0.0"
             ],
             {
              "frame": {
               "duration": 0,
               "redraw": true
              },
              "fromcurrent": true,
              "mode": "immediate",
              "transition": {
               "duration": 0,
               "easing": "linear"
              }
             }
            ],
            "label": "0.0",
            "method": "animate"
           },
           {
            "args": [
             [
              "20.0"
             ],
             {
              "frame": {
               "duration": 0,
               "redraw": true
              },
              "fromcurrent": true,
              "mode": "immediate",
              "transition": {
               "duration": 0,
               "easing": "linear"
              }
             }
            ],
            "label": "20.0",
            "method": "animate"
           },
           {
            "args": [
             [
              "30.0"
             ],
             {
              "frame": {
               "duration": 0,
               "redraw": true
              },
              "fromcurrent": true,
              "mode": "immediate",
              "transition": {
               "duration": 0,
               "easing": "linear"
              }
             }
            ],
            "label": "30.0",
            "method": "animate"
           },
           {
            "args": [
             [
              "40.0"
             ],
             {
              "frame": {
               "duration": 0,
               "redraw": true
              },
              "fromcurrent": true,
              "mode": "immediate",
              "transition": {
               "duration": 0,
               "easing": "linear"
              }
             }
            ],
            "label": "40.0",
            "method": "animate"
           },
           {
            "args": [
             [
              "50.0"
             ],
             {
              "frame": {
               "duration": 0,
               "redraw": true
              },
              "fromcurrent": true,
              "mode": "immediate",
              "transition": {
               "duration": 0,
               "easing": "linear"
              }
             }
            ],
            "label": "50.0",
            "method": "animate"
           },
           {
            "args": [
             [
              "60.0"
             ],
             {
              "frame": {
               "duration": 0,
               "redraw": true
              },
              "fromcurrent": true,
              "mode": "immediate",
              "transition": {
               "duration": 0,
               "easing": "linear"
              }
             }
            ],
            "label": "60.0",
            "method": "animate"
           },
           {
            "args": [
             [
              "70.0"
             ],
             {
              "frame": {
               "duration": 0,
               "redraw": true
              },
              "fromcurrent": true,
              "mode": "immediate",
              "transition": {
               "duration": 0,
               "easing": "linear"
              }
             }
            ],
            "label": "70.0",
            "method": "animate"
           },
           {
            "args": [
             [
              "80.0"
             ],
             {
              "frame": {
               "duration": 0,
               "redraw": true
              },
              "fromcurrent": true,
              "mode": "immediate",
              "transition": {
               "duration": 0,
               "easing": "linear"
              }
             }
            ],
            "label": "80.0",
            "method": "animate"
           },
           {
            "args": [
             [
              "90.0"
             ],
             {
              "frame": {
               "duration": 0,
               "redraw": true
              },
              "fromcurrent": true,
              "mode": "immediate",
              "transition": {
               "duration": 0,
               "easing": "linear"
              }
             }
            ],
            "label": "90.0",
            "method": "animate"
           },
           {
            "args": [
             [
              "100.0"
             ],
             {
              "frame": {
               "duration": 0,
               "redraw": true
              },
              "fromcurrent": true,
              "mode": "immediate",
              "transition": {
               "duration": 0,
               "easing": "linear"
              }
             }
            ],
            "label": "100.0",
            "method": "animate"
           },
           {
            "args": [
             [
              "110.0"
             ],
             {
              "frame": {
               "duration": 0,
               "redraw": true
              },
              "fromcurrent": true,
              "mode": "immediate",
              "transition": {
               "duration": 0,
               "easing": "linear"
              }
             }
            ],
            "label": "110.0",
            "method": "animate"
           },
           {
            "args": [
             [
              "120.0"
             ],
             {
              "frame": {
               "duration": 0,
               "redraw": true
              },
              "fromcurrent": true,
              "mode": "immediate",
              "transition": {
               "duration": 0,
               "easing": "linear"
              }
             }
            ],
            "label": "120.0",
            "method": "animate"
           },
           {
            "args": [
             [
              "130.0"
             ],
             {
              "frame": {
               "duration": 0,
               "redraw": true
              },
              "fromcurrent": true,
              "mode": "immediate",
              "transition": {
               "duration": 0,
               "easing": "linear"
              }
             }
            ],
            "label": "130.0",
            "method": "animate"
           },
           {
            "args": [
             [
              "140.0"
             ],
             {
              "frame": {
               "duration": 0,
               "redraw": true
              },
              "fromcurrent": true,
              "mode": "immediate",
              "transition": {
               "duration": 0,
               "easing": "linear"
              }
             }
            ],
            "label": "140.0",
            "method": "animate"
           },
           {
            "args": [
             [
              "150.0"
             ],
             {
              "frame": {
               "duration": 0,
               "redraw": true
              },
              "fromcurrent": true,
              "mode": "immediate",
              "transition": {
               "duration": 0,
               "easing": "linear"
              }
             }
            ],
            "label": "150.0",
            "method": "animate"
           },
           {
            "args": [
             [
              "160.0"
             ],
             {
              "frame": {
               "duration": 0,
               "redraw": true
              },
              "fromcurrent": true,
              "mode": "immediate",
              "transition": {
               "duration": 0,
               "easing": "linear"
              }
             }
            ],
            "label": "160.0",
            "method": "animate"
           },
           {
            "args": [
             [
              "170.0"
             ],
             {
              "frame": {
               "duration": 0,
               "redraw": true
              },
              "fromcurrent": true,
              "mode": "immediate",
              "transition": {
               "duration": 0,
               "easing": "linear"
              }
             }
            ],
            "label": "170.0",
            "method": "animate"
           },
           {
            "args": [
             [
              "180.0"
             ],
             {
              "frame": {
               "duration": 0,
               "redraw": true
              },
              "fromcurrent": true,
              "mode": "immediate",
              "transition": {
               "duration": 0,
               "easing": "linear"
              }
             }
            ],
            "label": "180.0",
            "method": "animate"
           },
           {
            "args": [
             [
              "190.0"
             ],
             {
              "frame": {
               "duration": 0,
               "redraw": true
              },
              "fromcurrent": true,
              "mode": "immediate",
              "transition": {
               "duration": 0,
               "easing": "linear"
              }
             }
            ],
            "label": "190.0",
            "method": "animate"
           },
           {
            "args": [
             [
              "200.0"
             ],
             {
              "frame": {
               "duration": 0,
               "redraw": true
              },
              "fromcurrent": true,
              "mode": "immediate",
              "transition": {
               "duration": 0,
               "easing": "linear"
              }
             }
            ],
            "label": "200.0",
            "method": "animate"
           },
           {
            "args": [
             [
              "210.0"
             ],
             {
              "frame": {
               "duration": 0,
               "redraw": true
              },
              "fromcurrent": true,
              "mode": "immediate",
              "transition": {
               "duration": 0,
               "easing": "linear"
              }
             }
            ],
            "label": "210.0",
            "method": "animate"
           },
           {
            "args": [
             [
              "220.0"
             ],
             {
              "frame": {
               "duration": 0,
               "redraw": true
              },
              "fromcurrent": true,
              "mode": "immediate",
              "transition": {
               "duration": 0,
               "easing": "linear"
              }
             }
            ],
            "label": "220.0",
            "method": "animate"
           },
           {
            "args": [
             [
              "230.0"
             ],
             {
              "frame": {
               "duration": 0,
               "redraw": true
              },
              "fromcurrent": true,
              "mode": "immediate",
              "transition": {
               "duration": 0,
               "easing": "linear"
              }
             }
            ],
            "label": "230.0",
            "method": "animate"
           },
           {
            "args": [
             [
              "240.0"
             ],
             {
              "frame": {
               "duration": 0,
               "redraw": true
              },
              "fromcurrent": true,
              "mode": "immediate",
              "transition": {
               "duration": 0,
               "easing": "linear"
              }
             }
            ],
            "label": "240.0",
            "method": "animate"
           },
           {
            "args": [
             [
              "250.0"
             ],
             {
              "frame": {
               "duration": 0,
               "redraw": true
              },
              "fromcurrent": true,
              "mode": "immediate",
              "transition": {
               "duration": 0,
               "easing": "linear"
              }
             }
            ],
            "label": "250.0",
            "method": "animate"
           },
           {
            "args": [
             [
              "260.0"
             ],
             {
              "frame": {
               "duration": 0,
               "redraw": true
              },
              "fromcurrent": true,
              "mode": "immediate",
              "transition": {
               "duration": 0,
               "easing": "linear"
              }
             }
            ],
            "label": "260.0",
            "method": "animate"
           },
           {
            "args": [
             [
              "270.0"
             ],
             {
              "frame": {
               "duration": 0,
               "redraw": true
              },
              "fromcurrent": true,
              "mode": "immediate",
              "transition": {
               "duration": 0,
               "easing": "linear"
              }
             }
            ],
            "label": "270.0",
            "method": "animate"
           },
           {
            "args": [
             [
              "280.0"
             ],
             {
              "frame": {
               "duration": 0,
               "redraw": true
              },
              "fromcurrent": true,
              "mode": "immediate",
              "transition": {
               "duration": 0,
               "easing": "linear"
              }
             }
            ],
            "label": "280.0",
            "method": "animate"
           },
           {
            "args": [
             [
              "290.0"
             ],
             {
              "frame": {
               "duration": 0,
               "redraw": true
              },
              "fromcurrent": true,
              "mode": "immediate",
              "transition": {
               "duration": 0,
               "easing": "linear"
              }
             }
            ],
            "label": "290.0",
            "method": "animate"
           },
           {
            "args": [
             [
              "300.0"
             ],
             {
              "frame": {
               "duration": 0,
               "redraw": true
              },
              "fromcurrent": true,
              "mode": "immediate",
              "transition": {
               "duration": 0,
               "easing": "linear"
              }
             }
            ],
            "label": "300.0",
            "method": "animate"
           },
           {
            "args": [
             [
              "310.0"
             ],
             {
              "frame": {
               "duration": 0,
               "redraw": true
              },
              "fromcurrent": true,
              "mode": "immediate",
              "transition": {
               "duration": 0,
               "easing": "linear"
              }
             }
            ],
            "label": "310.0",
            "method": "animate"
           },
           {
            "args": [
             [
              "320.0"
             ],
             {
              "frame": {
               "duration": 0,
               "redraw": true
              },
              "fromcurrent": true,
              "mode": "immediate",
              "transition": {
               "duration": 0,
               "easing": "linear"
              }
             }
            ],
            "label": "320.0",
            "method": "animate"
           },
           {
            "args": [
             [
              "330.0"
             ],
             {
              "frame": {
               "duration": 0,
               "redraw": true
              },
              "fromcurrent": true,
              "mode": "immediate",
              "transition": {
               "duration": 0,
               "easing": "linear"
              }
             }
            ],
            "label": "330.0",
            "method": "animate"
           },
           {
            "args": [
             [
              "340.0"
             ],
             {
              "frame": {
               "duration": 0,
               "redraw": true
              },
              "fromcurrent": true,
              "mode": "immediate",
              "transition": {
               "duration": 0,
               "easing": "linear"
              }
             }
            ],
            "label": "340.0",
            "method": "animate"
           },
           {
            "args": [
             [
              "350.0"
             ],
             {
              "frame": {
               "duration": 0,
               "redraw": true
              },
              "fromcurrent": true,
              "mode": "immediate",
              "transition": {
               "duration": 0,
               "easing": "linear"
              }
             }
            ],
            "label": "350.0",
            "method": "animate"
           },
           {
            "args": [
             [
              "360.0"
             ],
             {
              "frame": {
               "duration": 0,
               "redraw": true
              },
              "fromcurrent": true,
              "mode": "immediate",
              "transition": {
               "duration": 0,
               "easing": "linear"
              }
             }
            ],
            "label": "360.0",
            "method": "animate"
           },
           {
            "args": [
             [
              "370.0"
             ],
             {
              "frame": {
               "duration": 0,
               "redraw": true
              },
              "fromcurrent": true,
              "mode": "immediate",
              "transition": {
               "duration": 0,
               "easing": "linear"
              }
             }
            ],
            "label": "370.0",
            "method": "animate"
           },
           {
            "args": [
             [
              "380.0"
             ],
             {
              "frame": {
               "duration": 0,
               "redraw": true
              },
              "fromcurrent": true,
              "mode": "immediate",
              "transition": {
               "duration": 0,
               "easing": "linear"
              }
             }
            ],
            "label": "380.0",
            "method": "animate"
           },
           {
            "args": [
             [
              "390.0"
             ],
             {
              "frame": {
               "duration": 0,
               "redraw": true
              },
              "fromcurrent": true,
              "mode": "immediate",
              "transition": {
               "duration": 0,
               "easing": "linear"
              }
             }
            ],
            "label": "390.0",
            "method": "animate"
           },
           {
            "args": [
             [
              "400.0"
             ],
             {
              "frame": {
               "duration": 0,
               "redraw": true
              },
              "fromcurrent": true,
              "mode": "immediate",
              "transition": {
               "duration": 0,
               "easing": "linear"
              }
             }
            ],
            "label": "400.0",
            "method": "animate"
           },
           {
            "args": [
             [
              "410.0"
             ],
             {
              "frame": {
               "duration": 0,
               "redraw": true
              },
              "fromcurrent": true,
              "mode": "immediate",
              "transition": {
               "duration": 0,
               "easing": "linear"
              }
             }
            ],
            "label": "410.0",
            "method": "animate"
           },
           {
            "args": [
             [
              "420.0"
             ],
             {
              "frame": {
               "duration": 0,
               "redraw": true
              },
              "fromcurrent": true,
              "mode": "immediate",
              "transition": {
               "duration": 0,
               "easing": "linear"
              }
             }
            ],
            "label": "420.0",
            "method": "animate"
           },
           {
            "args": [
             [
              "430.0"
             ],
             {
              "frame": {
               "duration": 0,
               "redraw": true
              },
              "fromcurrent": true,
              "mode": "immediate",
              "transition": {
               "duration": 0,
               "easing": "linear"
              }
             }
            ],
            "label": "430.0",
            "method": "animate"
           },
           {
            "args": [
             [
              "440.0"
             ],
             {
              "frame": {
               "duration": 0,
               "redraw": true
              },
              "fromcurrent": true,
              "mode": "immediate",
              "transition": {
               "duration": 0,
               "easing": "linear"
              }
             }
            ],
            "label": "440.0",
            "method": "animate"
           },
           {
            "args": [
             [
              "450.0"
             ],
             {
              "frame": {
               "duration": 0,
               "redraw": true
              },
              "fromcurrent": true,
              "mode": "immediate",
              "transition": {
               "duration": 0,
               "easing": "linear"
              }
             }
            ],
            "label": "450.0",
            "method": "animate"
           },
           {
            "args": [
             [
              "460.0"
             ],
             {
              "frame": {
               "duration": 0,
               "redraw": true
              },
              "fromcurrent": true,
              "mode": "immediate",
              "transition": {
               "duration": 0,
               "easing": "linear"
              }
             }
            ],
            "label": "460.0",
            "method": "animate"
           },
           {
            "args": [
             [
              "470.0"
             ],
             {
              "frame": {
               "duration": 0,
               "redraw": true
              },
              "fromcurrent": true,
              "mode": "immediate",
              "transition": {
               "duration": 0,
               "easing": "linear"
              }
             }
            ],
            "label": "470.0",
            "method": "animate"
           },
           {
            "args": [
             [
              "480.0"
             ],
             {
              "frame": {
               "duration": 0,
               "redraw": true
              },
              "fromcurrent": true,
              "mode": "immediate",
              "transition": {
               "duration": 0,
               "easing": "linear"
              }
             }
            ],
            "label": "480.0",
            "method": "animate"
           },
           {
            "args": [
             [
              "490.0"
             ],
             {
              "frame": {
               "duration": 0,
               "redraw": true
              },
              "fromcurrent": true,
              "mode": "immediate",
              "transition": {
               "duration": 0,
               "easing": "linear"
              }
             }
            ],
            "label": "490.0",
            "method": "animate"
           },
           {
            "args": [
             [
              "500.0"
             ],
             {
              "frame": {
               "duration": 0,
               "redraw": true
              },
              "fromcurrent": true,
              "mode": "immediate",
              "transition": {
               "duration": 0,
               "easing": "linear"
              }
             }
            ],
            "label": "500.0",
            "method": "animate"
           },
           {
            "args": [
             [
              "510.0"
             ],
             {
              "frame": {
               "duration": 0,
               "redraw": true
              },
              "fromcurrent": true,
              "mode": "immediate",
              "transition": {
               "duration": 0,
               "easing": "linear"
              }
             }
            ],
            "label": "510.0",
            "method": "animate"
           },
           {
            "args": [
             [
              "520.0"
             ],
             {
              "frame": {
               "duration": 0,
               "redraw": true
              },
              "fromcurrent": true,
              "mode": "immediate",
              "transition": {
               "duration": 0,
               "easing": "linear"
              }
             }
            ],
            "label": "520.0",
            "method": "animate"
           },
           {
            "args": [
             [
              "530.0"
             ],
             {
              "frame": {
               "duration": 0,
               "redraw": true
              },
              "fromcurrent": true,
              "mode": "immediate",
              "transition": {
               "duration": 0,
               "easing": "linear"
              }
             }
            ],
            "label": "530.0",
            "method": "animate"
           },
           {
            "args": [
             [
              "540.0"
             ],
             {
              "frame": {
               "duration": 0,
               "redraw": true
              },
              "fromcurrent": true,
              "mode": "immediate",
              "transition": {
               "duration": 0,
               "easing": "linear"
              }
             }
            ],
            "label": "540.0",
            "method": "animate"
           },
           {
            "args": [
             [
              "550.0"
             ],
             {
              "frame": {
               "duration": 0,
               "redraw": true
              },
              "fromcurrent": true,
              "mode": "immediate",
              "transition": {
               "duration": 0,
               "easing": "linear"
              }
             }
            ],
            "label": "550.0",
            "method": "animate"
           },
           {
            "args": [
             [
              "560.0"
             ],
             {
              "frame": {
               "duration": 0,
               "redraw": true
              },
              "fromcurrent": true,
              "mode": "immediate",
              "transition": {
               "duration": 0,
               "easing": "linear"
              }
             }
            ],
            "label": "560.0",
            "method": "animate"
           },
           {
            "args": [
             [
              "570.0"
             ],
             {
              "frame": {
               "duration": 0,
               "redraw": true
              },
              "fromcurrent": true,
              "mode": "immediate",
              "transition": {
               "duration": 0,
               "easing": "linear"
              }
             }
            ],
            "label": "570.0",
            "method": "animate"
           },
           {
            "args": [
             [
              "580.0"
             ],
             {
              "frame": {
               "duration": 0,
               "redraw": true
              },
              "fromcurrent": true,
              "mode": "immediate",
              "transition": {
               "duration": 0,
               "easing": "linear"
              }
             }
            ],
            "label": "580.0",
            "method": "animate"
           },
           {
            "args": [
             [
              "590.0"
             ],
             {
              "frame": {
               "duration": 0,
               "redraw": true
              },
              "fromcurrent": true,
              "mode": "immediate",
              "transition": {
               "duration": 0,
               "easing": "linear"
              }
             }
            ],
            "label": "590.0",
            "method": "animate"
           },
           {
            "args": [
             [
              "600.0"
             ],
             {
              "frame": {
               "duration": 0,
               "redraw": true
              },
              "fromcurrent": true,
              "mode": "immediate",
              "transition": {
               "duration": 0,
               "easing": "linear"
              }
             }
            ],
            "label": "600.0",
            "method": "animate"
           },
           {
            "args": [
             [
              "610.0"
             ],
             {
              "frame": {
               "duration": 0,
               "redraw": true
              },
              "fromcurrent": true,
              "mode": "immediate",
              "transition": {
               "duration": 0,
               "easing": "linear"
              }
             }
            ],
            "label": "610.0",
            "method": "animate"
           },
           {
            "args": [
             [
              "620.0"
             ],
             {
              "frame": {
               "duration": 0,
               "redraw": true
              },
              "fromcurrent": true,
              "mode": "immediate",
              "transition": {
               "duration": 0,
               "easing": "linear"
              }
             }
            ],
            "label": "620.0",
            "method": "animate"
           },
           {
            "args": [
             [
              "630.0"
             ],
             {
              "frame": {
               "duration": 0,
               "redraw": true
              },
              "fromcurrent": true,
              "mode": "immediate",
              "transition": {
               "duration": 0,
               "easing": "linear"
              }
             }
            ],
            "label": "630.0",
            "method": "animate"
           },
           {
            "args": [
             [
              "640.0"
             ],
             {
              "frame": {
               "duration": 0,
               "redraw": true
              },
              "fromcurrent": true,
              "mode": "immediate",
              "transition": {
               "duration": 0,
               "easing": "linear"
              }
             }
            ],
            "label": "640.0",
            "method": "animate"
           },
           {
            "args": [
             [
              "650.0"
             ],
             {
              "frame": {
               "duration": 0,
               "redraw": true
              },
              "fromcurrent": true,
              "mode": "immediate",
              "transition": {
               "duration": 0,
               "easing": "linear"
              }
             }
            ],
            "label": "650.0",
            "method": "animate"
           },
           {
            "args": [
             [
              "660.0"
             ],
             {
              "frame": {
               "duration": 0,
               "redraw": true
              },
              "fromcurrent": true,
              "mode": "immediate",
              "transition": {
               "duration": 0,
               "easing": "linear"
              }
             }
            ],
            "label": "660.0",
            "method": "animate"
           },
           {
            "args": [
             [
              "670.0"
             ],
             {
              "frame": {
               "duration": 0,
               "redraw": true
              },
              "fromcurrent": true,
              "mode": "immediate",
              "transition": {
               "duration": 0,
               "easing": "linear"
              }
             }
            ],
            "label": "670.0",
            "method": "animate"
           },
           {
            "args": [
             [
              "680.0"
             ],
             {
              "frame": {
               "duration": 0,
               "redraw": true
              },
              "fromcurrent": true,
              "mode": "immediate",
              "transition": {
               "duration": 0,
               "easing": "linear"
              }
             }
            ],
            "label": "680.0",
            "method": "animate"
           },
           {
            "args": [
             [
              "690.0"
             ],
             {
              "frame": {
               "duration": 0,
               "redraw": true
              },
              "fromcurrent": true,
              "mode": "immediate",
              "transition": {
               "duration": 0,
               "easing": "linear"
              }
             }
            ],
            "label": "690.0",
            "method": "animate"
           },
           {
            "args": [
             [
              "700.0"
             ],
             {
              "frame": {
               "duration": 0,
               "redraw": true
              },
              "fromcurrent": true,
              "mode": "immediate",
              "transition": {
               "duration": 0,
               "easing": "linear"
              }
             }
            ],
            "label": "700.0",
            "method": "animate"
           },
           {
            "args": [
             [
              "710.0"
             ],
             {
              "frame": {
               "duration": 0,
               "redraw": true
              },
              "fromcurrent": true,
              "mode": "immediate",
              "transition": {
               "duration": 0,
               "easing": "linear"
              }
             }
            ],
            "label": "710.0",
            "method": "animate"
           },
           {
            "args": [
             [
              "720.0"
             ],
             {
              "frame": {
               "duration": 0,
               "redraw": true
              },
              "fromcurrent": true,
              "mode": "immediate",
              "transition": {
               "duration": 0,
               "easing": "linear"
              }
             }
            ],
            "label": "720.0",
            "method": "animate"
           },
           {
            "args": [
             [
              "730.0"
             ],
             {
              "frame": {
               "duration": 0,
               "redraw": true
              },
              "fromcurrent": true,
              "mode": "immediate",
              "transition": {
               "duration": 0,
               "easing": "linear"
              }
             }
            ],
            "label": "730.0",
            "method": "animate"
           },
           {
            "args": [
             [
              "740.0"
             ],
             {
              "frame": {
               "duration": 0,
               "redraw": true
              },
              "fromcurrent": true,
              "mode": "immediate",
              "transition": {
               "duration": 0,
               "easing": "linear"
              }
             }
            ],
            "label": "740.0",
            "method": "animate"
           },
           {
            "args": [
             [
              "750.0"
             ],
             {
              "frame": {
               "duration": 0,
               "redraw": true
              },
              "fromcurrent": true,
              "mode": "immediate",
              "transition": {
               "duration": 0,
               "easing": "linear"
              }
             }
            ],
            "label": "750.0",
            "method": "animate"
           },
           {
            "args": [
             [
              "760.0"
             ],
             {
              "frame": {
               "duration": 0,
               "redraw": true
              },
              "fromcurrent": true,
              "mode": "immediate",
              "transition": {
               "duration": 0,
               "easing": "linear"
              }
             }
            ],
            "label": "760.0",
            "method": "animate"
           },
           {
            "args": [
             [
              "770.0"
             ],
             {
              "frame": {
               "duration": 0,
               "redraw": true
              },
              "fromcurrent": true,
              "mode": "immediate",
              "transition": {
               "duration": 0,
               "easing": "linear"
              }
             }
            ],
            "label": "770.0",
            "method": "animate"
           },
           {
            "args": [
             [
              "780.0"
             ],
             {
              "frame": {
               "duration": 0,
               "redraw": true
              },
              "fromcurrent": true,
              "mode": "immediate",
              "transition": {
               "duration": 0,
               "easing": "linear"
              }
             }
            ],
            "label": "780.0",
            "method": "animate"
           },
           {
            "args": [
             [
              "790.0"
             ],
             {
              "frame": {
               "duration": 0,
               "redraw": true
              },
              "fromcurrent": true,
              "mode": "immediate",
              "transition": {
               "duration": 0,
               "easing": "linear"
              }
             }
            ],
            "label": "790.0",
            "method": "animate"
           }
          ],
          "x": 0.1,
          "xanchor": "left",
          "y": 0,
          "yanchor": "top"
         }
        ],
        "template": {
         "data": {
          "bar": [
           {
            "error_x": {
             "color": "#2a3f5f"
            },
            "error_y": {
             "color": "#2a3f5f"
            },
            "marker": {
             "line": {
              "color": "#E5ECF6",
              "width": 0.5
             },
             "pattern": {
              "fillmode": "overlay",
              "size": 10,
              "solidity": 0.2
             }
            },
            "type": "bar"
           }
          ],
          "barpolar": [
           {
            "marker": {
             "line": {
              "color": "#E5ECF6",
              "width": 0.5
             },
             "pattern": {
              "fillmode": "overlay",
              "size": 10,
              "solidity": 0.2
             }
            },
            "type": "barpolar"
           }
          ],
          "carpet": [
           {
            "aaxis": {
             "endlinecolor": "#2a3f5f",
             "gridcolor": "white",
             "linecolor": "white",
             "minorgridcolor": "white",
             "startlinecolor": "#2a3f5f"
            },
            "baxis": {
             "endlinecolor": "#2a3f5f",
             "gridcolor": "white",
             "linecolor": "white",
             "minorgridcolor": "white",
             "startlinecolor": "#2a3f5f"
            },
            "type": "carpet"
           }
          ],
          "choropleth": [
           {
            "colorbar": {
             "outlinewidth": 0,
             "ticks": ""
            },
            "type": "choropleth"
           }
          ],
          "contour": [
           {
            "colorbar": {
             "outlinewidth": 0,
             "ticks": ""
            },
            "colorscale": [
             [
              0,
              "#0d0887"
             ],
             [
              0.1111111111111111,
              "#46039f"
             ],
             [
              0.2222222222222222,
              "#7201a8"
             ],
             [
              0.3333333333333333,
              "#9c179e"
             ],
             [
              0.4444444444444444,
              "#bd3786"
             ],
             [
              0.5555555555555556,
              "#d8576b"
             ],
             [
              0.6666666666666666,
              "#ed7953"
             ],
             [
              0.7777777777777778,
              "#fb9f3a"
             ],
             [
              0.8888888888888888,
              "#fdca26"
             ],
             [
              1,
              "#f0f921"
             ]
            ],
            "type": "contour"
           }
          ],
          "contourcarpet": [
           {
            "colorbar": {
             "outlinewidth": 0,
             "ticks": ""
            },
            "type": "contourcarpet"
           }
          ],
          "heatmap": [
           {
            "colorbar": {
             "outlinewidth": 0,
             "ticks": ""
            },
            "colorscale": [
             [
              0,
              "#0d0887"
             ],
             [
              0.1111111111111111,
              "#46039f"
             ],
             [
              0.2222222222222222,
              "#7201a8"
             ],
             [
              0.3333333333333333,
              "#9c179e"
             ],
             [
              0.4444444444444444,
              "#bd3786"
             ],
             [
              0.5555555555555556,
              "#d8576b"
             ],
             [
              0.6666666666666666,
              "#ed7953"
             ],
             [
              0.7777777777777778,
              "#fb9f3a"
             ],
             [
              0.8888888888888888,
              "#fdca26"
             ],
             [
              1,
              "#f0f921"
             ]
            ],
            "type": "heatmap"
           }
          ],
          "heatmapgl": [
           {
            "colorbar": {
             "outlinewidth": 0,
             "ticks": ""
            },
            "colorscale": [
             [
              0,
              "#0d0887"
             ],
             [
              0.1111111111111111,
              "#46039f"
             ],
             [
              0.2222222222222222,
              "#7201a8"
             ],
             [
              0.3333333333333333,
              "#9c179e"
             ],
             [
              0.4444444444444444,
              "#bd3786"
             ],
             [
              0.5555555555555556,
              "#d8576b"
             ],
             [
              0.6666666666666666,
              "#ed7953"
             ],
             [
              0.7777777777777778,
              "#fb9f3a"
             ],
             [
              0.8888888888888888,
              "#fdca26"
             ],
             [
              1,
              "#f0f921"
             ]
            ],
            "type": "heatmapgl"
           }
          ],
          "histogram": [
           {
            "marker": {
             "pattern": {
              "fillmode": "overlay",
              "size": 10,
              "solidity": 0.2
             }
            },
            "type": "histogram"
           }
          ],
          "histogram2d": [
           {
            "colorbar": {
             "outlinewidth": 0,
             "ticks": ""
            },
            "colorscale": [
             [
              0,
              "#0d0887"
             ],
             [
              0.1111111111111111,
              "#46039f"
             ],
             [
              0.2222222222222222,
              "#7201a8"
             ],
             [
              0.3333333333333333,
              "#9c179e"
             ],
             [
              0.4444444444444444,
              "#bd3786"
             ],
             [
              0.5555555555555556,
              "#d8576b"
             ],
             [
              0.6666666666666666,
              "#ed7953"
             ],
             [
              0.7777777777777778,
              "#fb9f3a"
             ],
             [
              0.8888888888888888,
              "#fdca26"
             ],
             [
              1,
              "#f0f921"
             ]
            ],
            "type": "histogram2d"
           }
          ],
          "histogram2dcontour": [
           {
            "colorbar": {
             "outlinewidth": 0,
             "ticks": ""
            },
            "colorscale": [
             [
              0,
              "#0d0887"
             ],
             [
              0.1111111111111111,
              "#46039f"
             ],
             [
              0.2222222222222222,
              "#7201a8"
             ],
             [
              0.3333333333333333,
              "#9c179e"
             ],
             [
              0.4444444444444444,
              "#bd3786"
             ],
             [
              0.5555555555555556,
              "#d8576b"
             ],
             [
              0.6666666666666666,
              "#ed7953"
             ],
             [
              0.7777777777777778,
              "#fb9f3a"
             ],
             [
              0.8888888888888888,
              "#fdca26"
             ],
             [
              1,
              "#f0f921"
             ]
            ],
            "type": "histogram2dcontour"
           }
          ],
          "mesh3d": [
           {
            "colorbar": {
             "outlinewidth": 0,
             "ticks": ""
            },
            "type": "mesh3d"
           }
          ],
          "parcoords": [
           {
            "line": {
             "colorbar": {
              "outlinewidth": 0,
              "ticks": ""
             }
            },
            "type": "parcoords"
           }
          ],
          "pie": [
           {
            "automargin": true,
            "type": "pie"
           }
          ],
          "scatter": [
           {
            "fillpattern": {
             "fillmode": "overlay",
             "size": 10,
             "solidity": 0.2
            },
            "type": "scatter"
           }
          ],
          "scatter3d": [
           {
            "line": {
             "colorbar": {
              "outlinewidth": 0,
              "ticks": ""
             }
            },
            "marker": {
             "colorbar": {
              "outlinewidth": 0,
              "ticks": ""
             }
            },
            "type": "scatter3d"
           }
          ],
          "scattercarpet": [
           {
            "marker": {
             "colorbar": {
              "outlinewidth": 0,
              "ticks": ""
             }
            },
            "type": "scattercarpet"
           }
          ],
          "scattergeo": [
           {
            "marker": {
             "colorbar": {
              "outlinewidth": 0,
              "ticks": ""
             }
            },
            "type": "scattergeo"
           }
          ],
          "scattergl": [
           {
            "marker": {
             "colorbar": {
              "outlinewidth": 0,
              "ticks": ""
             }
            },
            "type": "scattergl"
           }
          ],
          "scattermapbox": [
           {
            "marker": {
             "colorbar": {
              "outlinewidth": 0,
              "ticks": ""
             }
            },
            "type": "scattermapbox"
           }
          ],
          "scatterpolar": [
           {
            "marker": {
             "colorbar": {
              "outlinewidth": 0,
              "ticks": ""
             }
            },
            "type": "scatterpolar"
           }
          ],
          "scatterpolargl": [
           {
            "marker": {
             "colorbar": {
              "outlinewidth": 0,
              "ticks": ""
             }
            },
            "type": "scatterpolargl"
           }
          ],
          "scatterternary": [
           {
            "marker": {
             "colorbar": {
              "outlinewidth": 0,
              "ticks": ""
             }
            },
            "type": "scatterternary"
           }
          ],
          "surface": [
           {
            "colorbar": {
             "outlinewidth": 0,
             "ticks": ""
            },
            "colorscale": [
             [
              0,
              "#0d0887"
             ],
             [
              0.1111111111111111,
              "#46039f"
             ],
             [
              0.2222222222222222,
              "#7201a8"
             ],
             [
              0.3333333333333333,
              "#9c179e"
             ],
             [
              0.4444444444444444,
              "#bd3786"
             ],
             [
              0.5555555555555556,
              "#d8576b"
             ],
             [
              0.6666666666666666,
              "#ed7953"
             ],
             [
              0.7777777777777778,
              "#fb9f3a"
             ],
             [
              0.8888888888888888,
              "#fdca26"
             ],
             [
              1,
              "#f0f921"
             ]
            ],
            "type": "surface"
           }
          ],
          "table": [
           {
            "cells": {
             "fill": {
              "color": "#EBF0F8"
             },
             "line": {
              "color": "white"
             }
            },
            "header": {
             "fill": {
              "color": "#C8D4E3"
             },
             "line": {
              "color": "white"
             }
            },
            "type": "table"
           }
          ]
         },
         "layout": {
          "annotationdefaults": {
           "arrowcolor": "#2a3f5f",
           "arrowhead": 0,
           "arrowwidth": 1
          },
          "autotypenumbers": "strict",
          "coloraxis": {
           "colorbar": {
            "outlinewidth": 0,
            "ticks": ""
           }
          },
          "colorscale": {
           "diverging": [
            [
             0,
             "#8e0152"
            ],
            [
             0.1,
             "#c51b7d"
            ],
            [
             0.2,
             "#de77ae"
            ],
            [
             0.3,
             "#f1b6da"
            ],
            [
             0.4,
             "#fde0ef"
            ],
            [
             0.5,
             "#f7f7f7"
            ],
            [
             0.6,
             "#e6f5d0"
            ],
            [
             0.7,
             "#b8e186"
            ],
            [
             0.8,
             "#7fbc41"
            ],
            [
             0.9,
             "#4d9221"
            ],
            [
             1,
             "#276419"
            ]
           ],
           "sequential": [
            [
             0,
             "#0d0887"
            ],
            [
             0.1111111111111111,
             "#46039f"
            ],
            [
             0.2222222222222222,
             "#7201a8"
            ],
            [
             0.3333333333333333,
             "#9c179e"
            ],
            [
             0.4444444444444444,
             "#bd3786"
            ],
            [
             0.5555555555555556,
             "#d8576b"
            ],
            [
             0.6666666666666666,
             "#ed7953"
            ],
            [
             0.7777777777777778,
             "#fb9f3a"
            ],
            [
             0.8888888888888888,
             "#fdca26"
            ],
            [
             1,
             "#f0f921"
            ]
           ],
           "sequentialminus": [
            [
             0,
             "#0d0887"
            ],
            [
             0.1111111111111111,
             "#46039f"
            ],
            [
             0.2222222222222222,
             "#7201a8"
            ],
            [
             0.3333333333333333,
             "#9c179e"
            ],
            [
             0.4444444444444444,
             "#bd3786"
            ],
            [
             0.5555555555555556,
             "#d8576b"
            ],
            [
             0.6666666666666666,
             "#ed7953"
            ],
            [
             0.7777777777777778,
             "#fb9f3a"
            ],
            [
             0.8888888888888888,
             "#fdca26"
            ],
            [
             1,
             "#f0f921"
            ]
           ]
          },
          "colorway": [
           "#636efa",
           "#EF553B",
           "#00cc96",
           "#ab63fa",
           "#FFA15A",
           "#19d3f3",
           "#FF6692",
           "#B6E880",
           "#FF97FF",
           "#FECB52"
          ],
          "font": {
           "color": "#2a3f5f"
          },
          "geo": {
           "bgcolor": "white",
           "lakecolor": "white",
           "landcolor": "#E5ECF6",
           "showlakes": true,
           "showland": true,
           "subunitcolor": "white"
          },
          "hoverlabel": {
           "align": "left"
          },
          "hovermode": "closest",
          "mapbox": {
           "style": "light"
          },
          "paper_bgcolor": "white",
          "plot_bgcolor": "#E5ECF6",
          "polar": {
           "angularaxis": {
            "gridcolor": "white",
            "linecolor": "white",
            "ticks": ""
           },
           "bgcolor": "#E5ECF6",
           "radialaxis": {
            "gridcolor": "white",
            "linecolor": "white",
            "ticks": ""
           }
          },
          "scene": {
           "xaxis": {
            "backgroundcolor": "#E5ECF6",
            "gridcolor": "white",
            "gridwidth": 2,
            "linecolor": "white",
            "showbackground": true,
            "ticks": "",
            "zerolinecolor": "white"
           },
           "yaxis": {
            "backgroundcolor": "#E5ECF6",
            "gridcolor": "white",
            "gridwidth": 2,
            "linecolor": "white",
            "showbackground": true,
            "ticks": "",
            "zerolinecolor": "white"
           },
           "zaxis": {
            "backgroundcolor": "#E5ECF6",
            "gridcolor": "white",
            "gridwidth": 2,
            "linecolor": "white",
            "showbackground": true,
            "ticks": "",
            "zerolinecolor": "white"
           }
          },
          "shapedefaults": {
           "line": {
            "color": "#2a3f5f"
           }
          },
          "ternary": {
           "aaxis": {
            "gridcolor": "white",
            "linecolor": "white",
            "ticks": ""
           },
           "baxis": {
            "gridcolor": "white",
            "linecolor": "white",
            "ticks": ""
           },
           "bgcolor": "#E5ECF6",
           "caxis": {
            "gridcolor": "white",
            "linecolor": "white",
            "ticks": ""
           }
          },
          "title": {
           "x": 0.05
          },
          "xaxis": {
           "automargin": true,
           "gridcolor": "white",
           "linecolor": "white",
           "ticks": "",
           "title": {
            "standoff": 15
           },
           "zerolinecolor": "white",
           "zerolinewidth": 2
          },
          "yaxis": {
           "automargin": true,
           "gridcolor": "white",
           "linecolor": "white",
           "ticks": "",
           "title": {
            "standoff": 15
           },
           "zerolinecolor": "white",
           "zerolinewidth": 2
          }
         }
        },
        "updatemenus": [
         {
          "buttons": [
           {
            "args": [
             null,
             {
              "frame": {
               "duration": 500,
               "redraw": true
              },
              "fromcurrent": true,
              "mode": "immediate",
              "transition": {
               "duration": 500,
               "easing": "linear"
              }
             }
            ],
            "label": "&#9654;",
            "method": "animate"
           },
           {
            "args": [
             [
              null
             ],
             {
              "frame": {
               "duration": 0,
               "redraw": true
              },
              "fromcurrent": true,
              "mode": "immediate",
              "transition": {
               "duration": 0,
               "easing": "linear"
              }
             }
            ],
            "label": "&#9724;",
            "method": "animate"
           }
          ],
          "direction": "left",
          "pad": {
           "r": 10,
           "t": 70
          },
          "showactive": false,
          "type": "buttons",
          "x": 0.1,
          "xanchor": "right",
          "y": 0,
          "yanchor": "top"
         }
        ]
       }
      }
     },
     "metadata": {},
     "output_type": "display_data"
    }
   ],
   "source": [
    "import plotly.express as px\n",
    "\n",
    "fig = px.density_mapbox(df, lat='lat', lon='lon', radius=10,\n",
    "                        center=dict(lat=df.lat.mean(), lon=df.lon.mean()), zoom=12,\n",
    "                        mapbox_style=\"stamen-terrain\", animation_frame='minutes')\n",
    "fig.update_layout(margin={\"r\":0,\"t\":0,\"l\":0,\"b\":0})"
   ]
  }
 ],
 "metadata": {
  "kernelspec": {
   "display_name": "Python 3.9.7 ('base')",
   "language": "python",
   "name": "python3"
  },
  "language_info": {
   "codemirror_mode": {
    "name": "ipython",
    "version": 3
   },
   "file_extension": ".py",
   "mimetype": "text/x-python",
   "name": "python",
   "nbconvert_exporter": "python",
   "pygments_lexer": "ipython3",
   "version": "3.9.7"
  },
  "orig_nbformat": 4,
  "vscode": {
   "interpreter": {
    "hash": "74eb74240a78feba9a345c9729ea0ea04e7ae3d558242fbb1102e1890655d8f9"
   }
  }
 },
 "nbformat": 4,
 "nbformat_minor": 2
}
